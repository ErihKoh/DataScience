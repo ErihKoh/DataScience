{
 "cells": [
  {
   "cell_type": "code",
   "execution_count": 1,
   "id": "e4e29c5f",
   "metadata": {},
   "outputs": [
    {
     "name": "stdout",
     "output_type": "stream",
     "text": [
      "                                                Name  \\\n",
      "0                      10-Day Green Smoothie Cleanse   \n",
      "1                                  11/22/63: A Novel   \n",
      "2            12 Rules for Life: An Antidote to Chaos   \n",
      "3                             1984 (Signet Classics)   \n",
      "4  5,000 Awesome Facts (About Everything!) (Natio...   \n",
      "\n",
      "                     Author  User Rating  Reviews  Price  Year        Genre  \n",
      "0                  JJ Smith          4.7    17350      8  2016  Non Fiction  \n",
      "1              Stephen King          4.6     2052     22  2011      Fiction  \n",
      "2        Jordan B. Peterson          4.7    18979     15  2018  Non Fiction  \n",
      "3             George Orwell          4.7    21424      6  2017      Fiction  \n",
      "4  National Geographic Kids          4.8     7665     12  2019  Non Fiction  \n",
      "кол-во столбцов :  7\n",
      "кол-во строк:  550\n"
     ]
    }
   ],
   "source": [
    "import pandas as pd\n",
    "\n",
    "my_table = pd.read_csv(\"bestsellers with categories.csv\")\n",
    "\n",
    "print(my_table.head())\n",
    "print(f\"кол-во столбцов :  {my_table.shape[1]}\")\n",
    "print(f\"кол-во строк:  {my_table.shape[0]}\")"
   ]
  },
  {
   "cell_type": "markdown",
   "id": "3cc9c2ef",
   "metadata": {},
   "source": [
    "О скольки книгах хранит данные датасет? Ответ: 549"
   ]
  },
  {
   "cell_type": "code",
   "execution_count": 2,
   "id": "bb484b64",
   "metadata": {},
   "outputs": [
    {
     "name": "stdout",
     "output_type": "stream",
     "text": [
      "                                                  name  \\\n",
      "0                        10-Day Green Smoothie Cleanse   \n",
      "1                                    11/22/63: A Novel   \n",
      "2              12 Rules for Life: An Antidote to Chaos   \n",
      "3                               1984 (Signet Classics)   \n",
      "4    5,000 Awesome Facts (About Everything!) (Natio...   \n",
      "..                                                 ...   \n",
      "545       Wrecking Ball (Diary of a Wimpy Kid Book 14)   \n",
      "546  You Are a Badass: How to Stop Doubting Your Gr...   \n",
      "547  You Are a Badass: How to Stop Doubting Your Gr...   \n",
      "548  You Are a Badass: How to Stop Doubting Your Gr...   \n",
      "549  You Are a Badass: How to Stop Doubting Your Gr...   \n",
      "\n",
      "                       author  user_rating  reviews  price  year        genre  \n",
      "0                    JJ Smith          4.7    17350      8  2016  Non Fiction  \n",
      "1                Stephen King          4.6     2052     22  2011      Fiction  \n",
      "2          Jordan B. Peterson          4.7    18979     15  2018  Non Fiction  \n",
      "3               George Orwell          4.7    21424      6  2017      Fiction  \n",
      "4    National Geographic Kids          4.8     7665     12  2019  Non Fiction  \n",
      "..                        ...          ...      ...    ...   ...          ...  \n",
      "545               Jeff Kinney          4.9     9413      8  2019      Fiction  \n",
      "546               Jen Sincero          4.7    14331      8  2016  Non Fiction  \n",
      "547               Jen Sincero          4.7    14331      8  2017  Non Fiction  \n",
      "548               Jen Sincero          4.7    14331      8  2018  Non Fiction  \n",
      "549               Jen Sincero          4.7    14331      8  2019  Non Fiction  \n",
      "\n",
      "[550 rows x 7 columns]\n"
     ]
    }
   ],
   "source": [
    "my_table.columns = ['name', 'author', 'user_rating', 'reviews', 'price', 'year', 'genre']\n",
    "print(my_table)"
   ]
  },
  {
   "cell_type": "code",
   "execution_count": 3,
   "id": "90d30269",
   "metadata": {},
   "outputs": [
    {
     "name": "stdout",
     "output_type": "stream",
     "text": [
      "name           0\n",
      "author         0\n",
      "user_rating    0\n",
      "reviews        0\n",
      "price          0\n",
      "year           0\n",
      "genre          0\n",
      "dtype: int64\n"
     ]
    }
   ],
   "source": [
    "spaces = my_table.isnull().sum()\n",
    "print(spaces)"
   ]
  },
  {
   "cell_type": "markdown",
   "id": "ac299763",
   "metadata": {},
   "source": [
    "Есть ли в каких либо переменных пропуски? Ответ: Нет\n"
   ]
  },
  {
   "cell_type": "code",
   "execution_count": 4,
   "id": "6f920e36",
   "metadata": {},
   "outputs": [
    {
     "name": "stdout",
     "output_type": "stream",
     "text": [
      "['Non Fiction' 'Fiction']\n"
     ]
    }
   ],
   "source": [
    "unique_gen = my_table['genre'].unique()\n",
    "print(unique_gen)"
   ]
  },
  {
   "cell_type": "markdown",
   "id": "03f7ff2f",
   "metadata": {},
   "source": [
    "Какие есть уникальные жанры? Ответ: Non Fiction, Fiction"
   ]
  },
  {
   "cell_type": "code",
   "execution_count": 5,
   "id": "7e5f7606",
   "metadata": {},
   "outputs": [
    {
     "data": {
      "image/png": "[encoded data removed]",
      "text/plain": [
       "<Figure size 432x288 with 1 Axes>"
      ]
     },
     "metadata": {
      "needs_background": "light"
     },
     "output_type": "display_data"
    }
   ],
   "source": [
    "import matplotlib.pyplot as plt\n",
    "my_table[\"price\"].plot(kind=\"hist\")\n",
    "plt.xlabel(\"price\", fontsize=\"small\", color=\"midnightblue\")\n",
    "plt.show()"
   ]
  },
  {
   "cell_type": "code",
   "execution_count": 6,
   "id": "a687ab72",
   "metadata": {},
   "outputs": [
    {
     "name": "stdout",
     "output_type": "stream",
     "text": [
      "max       105.0\n",
      "min         0.0\n",
      "mean       13.1\n",
      "median     11.0\n",
      "Name: price, dtype: float64\n"
     ]
    }
   ],
   "source": [
    "price = my_table[\"price\"].agg(['max', 'min', 'mean', 'median'])\n",
    "\n",
    "print(price)"
   ]
  },
  {
   "cell_type": "markdown",
   "id": "79797a26",
   "metadata": {},
   "source": [
    "Mаксимальная цена? Ответ: 105\n",
    "Минимальная цена? Ответ: 0\n",
    "Средняя цена? Ответ: 13.1\n",
    "Медианная цена? Ответ: 11"
   ]
  },
  {
   "cell_type": "code",
   "execution_count": 7,
   "id": "62e5e92e",
   "metadata": {},
   "outputs": [
    {
     "data": {
      "text/plain": [
       "max    4.9\n",
       "Name: user_rating, dtype: float64"
      ]
     },
     "execution_count": 7,
     "metadata": {},
     "output_type": "execute_result"
    }
   ],
   "source": [
    "my_table[\"user_rating\"].agg(['max'])"
   ]
  },
  {
   "cell_type": "markdown",
   "id": "6d58a2b3",
   "metadata": {},
   "source": [
    "Какой рейтинг в датасете наивысший? Ответ: 4.9"
   ]
  },
  {
   "cell_type": "code",
   "execution_count": 8,
   "id": "70d7e360",
   "metadata": {},
   "outputs": [
    {
     "data": {
      "text/plain": [
       "name           52\n",
       "author         52\n",
       "user_rating    52\n",
       "reviews        52\n",
       "price          52\n",
       "year           52\n",
       "genre          52\n",
       "dtype: int64"
      ]
     },
     "execution_count": 8,
     "metadata": {},
     "output_type": "execute_result"
    }
   ],
   "source": [
    "my_table.loc[my_table['user_rating'] == 4.9].count()"
   ]
  },
  {
   "cell_type": "markdown",
   "id": "2c5cb98a",
   "metadata": {},
   "source": [
    "Сколько книг имеют такой рейтинг? Ответ:52"
   ]
  },
  {
   "cell_type": "code",
   "execution_count": 9,
   "id": "ea2e9e77",
   "metadata": {},
   "outputs": [
    {
     "name": "stdout",
     "output_type": "stream",
     "text": [
      "max    87841\n",
      "Name: reviews, dtype: int64\n"
     ]
    },
    {
     "data": {
      "text/html": [
       "<div>\n",
       "<style scoped>\n",
       "    .dataframe tbody tr th:only-of-type {\n",
       "        vertical-align: middle;\n",
       "    }\n",
       "\n",
       "    .dataframe tbody tr th {\n",
       "        vertical-align: top;\n",
       "    }\n",
       "\n",
       "    .dataframe thead th {\n",
       "        text-align: right;\n",
       "    }\n",
       "</style>\n",
       "<table border=\"1\" class=\"dataframe\">\n",
       "  <thead>\n",
       "    <tr style=\"text-align: right;\">\n",
       "      <th></th>\n",
       "      <th>name</th>\n",
       "      <th>author</th>\n",
       "      <th>user_rating</th>\n",
       "      <th>reviews</th>\n",
       "      <th>price</th>\n",
       "      <th>year</th>\n",
       "      <th>genre</th>\n",
       "    </tr>\n",
       "  </thead>\n",
       "  <tbody>\n",
       "    <tr>\n",
       "      <th>534</th>\n",
       "      <td>Where the Crawdads Sing</td>\n",
       "      <td>Delia Owens</td>\n",
       "      <td>4.8</td>\n",
       "      <td>87841</td>\n",
       "      <td>15</td>\n",
       "      <td>2019</td>\n",
       "      <td>Fiction</td>\n",
       "    </tr>\n",
       "  </tbody>\n",
       "</table>\n",
       "</div>"
      ],
      "text/plain": [
       "                        name       author  user_rating  reviews  price  year  \\\n",
       "534  Where the Crawdads Sing  Delia Owens          4.8    87841     15  2019   \n",
       "\n",
       "       genre  \n",
       "534  Fiction  "
      ]
     },
     "execution_count": 9,
     "metadata": {},
     "output_type": "execute_result"
    }
   ],
   "source": [
    "max_reviews = my_table[\"reviews\"].agg(['max'])\n",
    "print(max_reviews)\n",
    "my_table.loc[my_table['reviews'] == 87841]"
   ]
  },
  {
   "cell_type": "markdown",
   "id": "2c365dcb",
   "metadata": {},
   "source": [
    "У какой книги больше всего отзывов? Ответ: Where the Crawdads Sing\tDelia Owens"
   ]
  },
  {
   "cell_type": "code",
   "execution_count": 10,
   "id": "db52666b",
   "metadata": {},
   "outputs": [
    {
     "name": "stdout",
     "output_type": "stream",
     "text": [
      "                                                  name  \\\n",
      "16   Adult Coloring Book: Stress Relieving Animal D...   \n",
      "17      Adult Coloring Book: Stress Relieving Patterns   \n",
      "18   Adult Coloring Books: A Coloring Book for Adul...   \n",
      "21                         All the Light We Cannot See   \n",
      "23   American Sniper: The Autobiography of the Most...   \n",
      "28                        Baby Touch and Feel: Animals   \n",
      "29            Balance (Angie's Extreme Stress Menders)   \n",
      "34   Being Mortal: Medicine and What Matters in the...   \n",
      "35                            Between the World and Me   \n",
      "54   Creative Haven Creative Cats Coloring Book (Ad...   \n",
      "55   Creative Haven Owls Coloring Book (Adult Color...   \n",
      "63                      Dear Zoo: A Lift-the-Flap Book   \n",
      "89   Dover Creative Haven Art Nouveau Animal Design...   \n",
      "99   Enchanted Forest: An Inky Quest and Coloring b...   \n",
      "111                                    First 100 Words   \n",
      "123                               Giraffes Can't Dance   \n",
      "132                         Go Set a Watchman: A Novel   \n",
      "149  Grey: Fifty Shades of Grey as Told by Christia...   \n",
      "158                         Harry Potter Coloring Book   \n",
      "167              How to Win Friends & Influence People   \n",
      "174                       Humans of New York : Stories   \n",
      "191  Jesus Calling: Enjoying Peace in His Presence ...   \n",
      "201  Killing Reagan: The Violent Assault That Chang...   \n",
      "206                         Knock-Knock Jokes for Kids   \n",
      "210                      Laugh-Out-Loud Jokes for Kids   \n",
      "224                                   Love You Forever   \n",
      "234             Mindset: The New Psychology of Success   \n",
      "248                          Oh, the Places You'll Go!   \n",
      "253              Old School (Diary of a Wimpy Kid #10)   \n",
      "277  Publication Manual of the American Psychologic...   \n",
      "295  Secret Garden: An Inky Treasure Hunt and Color...   \n",
      "310                                StrengthsFinder 2.0   \n",
      "325  The 5 Love Languages: The Secret to Love that ...   \n",
      "335  The 7 Habits of Highly Effective People: Power...   \n",
      "350                          The Book with No Pictures   \n",
      "352  The Boys in the Boat: Nine Americans and Their...   \n",
      "362                           The Day the Crayons Quit   \n",
      "376  The Four Agreements: A Practical Guide to Pers...   \n",
      "382                              The Girl on the Train   \n",
      "423  The Life-Changing Magic of Tidying Up: The Jap...   \n",
      "433                                        The Martian   \n",
      "437                           The Nightingale: A Novel   \n",
      "447  The Pioneer Woman Cooks: Dinnertime - Comfort ...   \n",
      "478                        The Very Hungry Caterpillar   \n",
      "483  The Whole30: The 30-Day Guide to Total Health ...   \n",
      "492                                The Wright Brothers   \n",
      "501  Thug Kitchen: The Official Cookbook: Eat Like ...   \n",
      "507                              To Kill a Mockingbird   \n",
      "528             What Pet Should I Get? (Classic Seuss)   \n",
      "542                                             Wonder   \n",
      "\n",
      "                                 author  user_rating  reviews  price  year  \\\n",
      "16                   Blue Star Coloring          4.6     2925      6  2015   \n",
      "17                   Blue Star Coloring          4.4     2951      6  2015   \n",
      "18            Coloring Books for Adults          4.5     2426      8  2015   \n",
      "21                        Anthony Doerr          4.6    36348     14  2015   \n",
      "23                           Chris Kyle          4.6    15921      9  2015   \n",
      "28                                   DK          4.6     5360      5  2015   \n",
      "29                          Angie Grace          4.6     1909     11  2015   \n",
      "34                         Atul Gawande          4.8    11113     15  2015   \n",
      "35                     Ta-Nehisi Coates          4.7    10070     13  2015   \n",
      "54                      Marjorie Sarnat          4.8     4022      4  2015   \n",
      "55                      Marjorie Sarnat          4.8     3871      5  2015   \n",
      "63                         Rod Campbell          4.8    10922      5  2015   \n",
      "89                          Marty Noble          4.6     2134      5  2015   \n",
      "99                      Johanna Basford          4.7     5413      9  2015   \n",
      "111                        Roger Priddy          4.7    17323      4  2015   \n",
      "123                       Giles Andreae          4.8    14038      4  2015   \n",
      "132                          Harper Lee          3.6    14982     19  2015   \n",
      "149                           E L James          4.4    25624     14  2015   \n",
      "158                          Scholastic          4.7     3564      9  2015   \n",
      "167                       Dale Carnegie          4.7    25001     11  2015   \n",
      "174                     Brandon Stanton          4.9     2812     17  2015   \n",
      "191                         Sarah Young          4.9    19576      8  2015   \n",
      "201                       Bill O'Reilly          4.6     5235      5  2015   \n",
      "206                         Rob Elliott          4.5     3673      4  2015   \n",
      "210                         Rob Elliott          4.6     6990      4  2015   \n",
      "224                       Robert Munsch          4.8    18613      5  2015   \n",
      "234                      Carol S. Dweck          4.6     5542     10  2015   \n",
      "248                           Dr. Seuss          4.9    21834      8  2015   \n",
      "253                         Jeff Kinney          4.8     6169      7  2015   \n",
      "277  American Psychological Association          4.5     8580     46  2015   \n",
      "295                     Johanna Basford          4.7     9366      9  2015   \n",
      "310                              Gallup          4.0     5069     17  2015   \n",
      "325                        Gary Chapman          4.8    25554      8  2015   \n",
      "335                    Stephen R. Covey          4.7     4725     16  2015   \n",
      "350                         B. J. Novak          4.8     8081      8  2015   \n",
      "352                  Daniel James Brown          4.8    23358     12  2015   \n",
      "362                        Drew Daywalt          4.8     8922      9  2015   \n",
      "376                     Don Miguel Ruiz          4.7    23308      6  2015   \n",
      "382                       Paula Hawkins          4.1    79446     18  2015   \n",
      "423                         Marie Kondō          4.5    22641     11  2015   \n",
      "433                           Andy Weir          4.7    39459      9  2015   \n",
      "437                      Kristin Hannah          4.8    49288     11  2015   \n",
      "447                        Ree Drummond          4.8     3428     14  2015   \n",
      "478                          Eric Carle          4.9    19546      5  2015   \n",
      "483               Melissa Hartwig Urban          4.6     7508     16  2015   \n",
      "492                    David McCullough          4.7     6169     16  2015   \n",
      "501                        Thug Kitchen          4.6    11128     23  2015   \n",
      "507                          Harper Lee          4.8    26234      0  2015   \n",
      "528                           Dr. Seuss          4.7     1873     14  2015   \n",
      "542                       R. J. Palacio          4.8    21625      9  2015   \n",
      "\n",
      "           genre  \n",
      "16   Non Fiction  \n",
      "17   Non Fiction  \n",
      "18   Non Fiction  \n",
      "21       Fiction  \n",
      "23   Non Fiction  \n",
      "28   Non Fiction  \n",
      "29   Non Fiction  \n",
      "34   Non Fiction  \n",
      "35   Non Fiction  \n",
      "54   Non Fiction  \n",
      "55   Non Fiction  \n",
      "63       Fiction  \n",
      "89   Non Fiction  \n",
      "99   Non Fiction  \n",
      "111  Non Fiction  \n",
      "123      Fiction  \n",
      "132      Fiction  \n",
      "149      Fiction  \n",
      "158  Non Fiction  \n",
      "167  Non Fiction  \n",
      "174  Non Fiction  \n",
      "191  Non Fiction  \n",
      "201  Non Fiction  \n",
      "206  Non Fiction  \n",
      "210  Non Fiction  \n",
      "224      Fiction  \n",
      "234  Non Fiction  \n",
      "248      Fiction  \n",
      "253      Fiction  \n",
      "277  Non Fiction  \n",
      "295  Non Fiction  \n",
      "310  Non Fiction  \n",
      "325  Non Fiction  \n",
      "335  Non Fiction  \n",
      "350      Fiction  \n",
      "352  Non Fiction  \n",
      "362      Fiction  \n",
      "376  Non Fiction  \n",
      "382      Fiction  \n",
      "423  Non Fiction  \n",
      "433      Fiction  \n",
      "437      Fiction  \n",
      "447  Non Fiction  \n",
      "478      Fiction  \n",
      "483  Non Fiction  \n",
      "492  Non Fiction  \n",
      "501  Non Fiction  \n",
      "507      Fiction  \n",
      "528      Fiction  \n",
      "542      Fiction  \n"
     ]
    },
    {
     "data": {
      "text/html": [
       "<div>\n",
       "<style scoped>\n",
       "    .dataframe tbody tr th:only-of-type {\n",
       "        vertical-align: middle;\n",
       "    }\n",
       "\n",
       "    .dataframe tbody tr th {\n",
       "        vertical-align: top;\n",
       "    }\n",
       "\n",
       "    .dataframe thead th {\n",
       "        text-align: right;\n",
       "    }\n",
       "</style>\n",
       "<table border=\"1\" class=\"dataframe\">\n",
       "  <thead>\n",
       "    <tr style=\"text-align: right;\">\n",
       "      <th></th>\n",
       "      <th>name</th>\n",
       "      <th>author</th>\n",
       "      <th>user_rating</th>\n",
       "      <th>reviews</th>\n",
       "      <th>price</th>\n",
       "      <th>year</th>\n",
       "      <th>genre</th>\n",
       "    </tr>\n",
       "  </thead>\n",
       "  <tbody>\n",
       "    <tr>\n",
       "      <th>277</th>\n",
       "      <td>Publication Manual of the American Psychologic...</td>\n",
       "      <td>American Psychological Association</td>\n",
       "      <td>4.5</td>\n",
       "      <td>8580</td>\n",
       "      <td>46</td>\n",
       "      <td>2015</td>\n",
       "      <td>Non Fiction</td>\n",
       "    </tr>\n",
       "  </tbody>\n",
       "</table>\n",
       "</div>"
      ],
      "text/plain": [
       "                                                  name  \\\n",
       "277  Publication Manual of the American Psychologic...   \n",
       "\n",
       "                                 author  user_rating  reviews  price  year  \\\n",
       "277  American Psychological Association          4.5     8580     46  2015   \n",
       "\n",
       "           genre  \n",
       "277  Non Fiction  "
      ]
     },
     "execution_count": 10,
     "metadata": {},
     "output_type": "execute_result"
    }
   ],
   "source": [
    "books_2015 = my_table.loc[my_table['year'] == 2015]\n",
    "print(books_2015)\n",
    "books_2015[\"price\"].agg(['max'])\n",
    "books_2015.loc[books_2015['price'] == 46]\n"
   ]
  },
  {
   "cell_type": "markdown",
   "id": "fa7448ac",
   "metadata": {},
   "source": [
    "Из тех книг, что попали в Топ-50 в 2015 году, какая книга самая дорогая? Ответ: Publication Manual of the American Psychologic"
   ]
  },
  {
   "cell_type": "code",
   "execution_count": 11,
   "id": "66dc2070",
   "metadata": {},
   "outputs": [
    {
     "data": {
      "text/plain": [
       "name           20\n",
       "author         20\n",
       "user_rating    20\n",
       "reviews        20\n",
       "price          20\n",
       "year           20\n",
       "genre          20\n",
       "dtype: int64"
      ]
     },
     "execution_count": 11,
     "metadata": {},
     "output_type": "execute_result"
    }
   ],
   "source": [
    "my_table.loc[(my_table['year'] == 2010) & (my_table['genre'] == 'Fiction')].count()"
   ]
  },
  {
   "cell_type": "markdown",
   "id": "d3ff263b",
   "metadata": {},
   "source": [
    "Сколько книг жанра Fiction попали в Топ-50 в 2010 году (используйте &)? Ответ: 20"
   ]
  },
  {
   "cell_type": "code",
   "execution_count": 12,
   "id": "9ab4cff8",
   "metadata": {},
   "outputs": [
    {
     "name": "stdout",
     "output_type": "stream",
     "text": [
      "name           1\n",
      "author         1\n",
      "user_rating    1\n",
      "reviews        1\n",
      "price          1\n",
      "year           1\n",
      "genre          1\n",
      "dtype: int64\n"
     ]
    }
   ],
   "source": [
    "my_year = my_table.loc[(my_table['year'] == 2010) | (my_table['year'] == 2011)]\n",
    "my_rating = my_year.loc[my_year['user_rating'] == 4.9]\n",
    "print(my_rating.count())\n"
   ]
  },
  {
   "cell_type": "markdown",
   "id": "1f0c36bc",
   "metadata": {},
   "source": [
    "Сколько книг c рейтингом 4.9 попало в рейтинг в 2010 и 2011 годах? Ответ: 1"
   ]
  },
  {
   "cell_type": "markdown",
   "id": "c1db2a28",
   "metadata": {},
   "source": [
    "И напоследок, давайте отсортируем по возрастанию цены все книги, которые попали в рейтинг в 2015 году и стоят дешевле 8 долларов (используйте функцию sort_values)."
   ]
  },
  {
   "cell_type": "code",
   "execution_count": 13,
   "id": "6c060e7c",
   "metadata": {},
   "outputs": [
    {
     "data": {
      "text/html": [
       "<div>\n",
       "<style scoped>\n",
       "    .dataframe tbody tr th:only-of-type {\n",
       "        vertical-align: middle;\n",
       "    }\n",
       "\n",
       "    .dataframe tbody tr th {\n",
       "        vertical-align: top;\n",
       "    }\n",
       "\n",
       "    .dataframe thead th {\n",
       "        text-align: right;\n",
       "    }\n",
       "</style>\n",
       "<table border=\"1\" class=\"dataframe\">\n",
       "  <thead>\n",
       "    <tr style=\"text-align: right;\">\n",
       "      <th></th>\n",
       "      <th>name</th>\n",
       "      <th>author</th>\n",
       "      <th>user_rating</th>\n",
       "      <th>reviews</th>\n",
       "      <th>price</th>\n",
       "      <th>year</th>\n",
       "      <th>genre</th>\n",
       "    </tr>\n",
       "  </thead>\n",
       "  <tbody>\n",
       "    <tr>\n",
       "      <th>461</th>\n",
       "      <td>The Short Second Life of Bree Tanner: An Eclip...</td>\n",
       "      <td>Stephenie Meyer</td>\n",
       "      <td>4.6</td>\n",
       "      <td>2122</td>\n",
       "      <td>0</td>\n",
       "      <td>2010</td>\n",
       "      <td>Fiction</td>\n",
       "    </tr>\n",
       "    <tr>\n",
       "      <th>11</th>\n",
       "      <td>A Patriot's History of the United States: From...</td>\n",
       "      <td>Larry Schweikart</td>\n",
       "      <td>4.6</td>\n",
       "      <td>460</td>\n",
       "      <td>2</td>\n",
       "      <td>2010</td>\n",
       "      <td>Non Fiction</td>\n",
       "    </tr>\n",
       "    <tr>\n",
       "      <th>264</th>\n",
       "      <td>Percy Jackson and the Olympians Paperback Boxe...</td>\n",
       "      <td>Rick Riordan</td>\n",
       "      <td>4.8</td>\n",
       "      <td>548</td>\n",
       "      <td>2</td>\n",
       "      <td>2010</td>\n",
       "      <td>Fiction</td>\n",
       "    </tr>\n",
       "    <tr>\n",
       "      <th>389</th>\n",
       "      <td>The Girl with the Dragon Tattoo (Millennium Se...</td>\n",
       "      <td>Stieg Larsson</td>\n",
       "      <td>4.4</td>\n",
       "      <td>10559</td>\n",
       "      <td>2</td>\n",
       "      <td>2010</td>\n",
       "      <td>Fiction</td>\n",
       "    </tr>\n",
       "    <tr>\n",
       "      <th>370</th>\n",
       "      <td>The Five Dysfunctions of a Team: A Leadership ...</td>\n",
       "      <td>Patrick Lencioni</td>\n",
       "      <td>4.6</td>\n",
       "      <td>3207</td>\n",
       "      <td>6</td>\n",
       "      <td>2010</td>\n",
       "      <td>Non Fiction</td>\n",
       "    </tr>\n",
       "    <tr>\n",
       "      <th>403</th>\n",
       "      <td>The Help</td>\n",
       "      <td>Kathryn Stockett</td>\n",
       "      <td>4.8</td>\n",
       "      <td>13871</td>\n",
       "      <td>6</td>\n",
       "      <td>2010</td>\n",
       "      <td>Fiction</td>\n",
       "    </tr>\n",
       "    <tr>\n",
       "      <th>419</th>\n",
       "      <td>The Last Olympian (Percy Jackson and the Olymp...</td>\n",
       "      <td>Rick Riordan</td>\n",
       "      <td>4.8</td>\n",
       "      <td>4628</td>\n",
       "      <td>7</td>\n",
       "      <td>2010</td>\n",
       "      <td>Fiction</td>\n",
       "    </tr>\n",
       "  </tbody>\n",
       "</table>\n",
       "</div>"
      ],
      "text/plain": [
       "                                                  name            author  \\\n",
       "461  The Short Second Life of Bree Tanner: An Eclip...   Stephenie Meyer   \n",
       "11   A Patriot's History of the United States: From...  Larry Schweikart   \n",
       "264  Percy Jackson and the Olympians Paperback Boxe...      Rick Riordan   \n",
       "389  The Girl with the Dragon Tattoo (Millennium Se...     Stieg Larsson   \n",
       "370  The Five Dysfunctions of a Team: A Leadership ...  Patrick Lencioni   \n",
       "403                                           The Help  Kathryn Stockett   \n",
       "419  The Last Olympian (Percy Jackson and the Olymp...      Rick Riordan   \n",
       "\n",
       "     user_rating  reviews  price  year        genre  \n",
       "461          4.6     2122      0  2010      Fiction  \n",
       "11           4.6      460      2  2010  Non Fiction  \n",
       "264          4.8      548      2  2010      Fiction  \n",
       "389          4.4    10559      2  2010      Fiction  \n",
       "370          4.6     3207      6  2010  Non Fiction  \n",
       "403          4.8    13871      6  2010      Fiction  \n",
       "419          4.8     4628      7  2010      Fiction  "
      ]
     },
     "execution_count": 13,
     "metadata": {},
     "output_type": "execute_result"
    }
   ],
   "source": [
    "year_2015 = my_table.loc[(my_table['year'] == 2010)]\n",
    "price_8 = year_2015.loc[(my_table['price'] < 8)]\n",
    "price_8.sort_values(by=['price'])"
   ]
  },
  {
   "cell_type": "markdown",
   "id": "4cb4e84c",
   "metadata": {},
   "source": [
    "Какая книга последняя в отсортированном списке? Ответ: The Last Olympian (Percy Jackson and the Olymp...\t"
   ]
  },
  {
   "cell_type": "markdown",
   "id": "09f2471a",
   "metadata": {},
   "source": [
    "Для начала давайте посмотрим на максимальную и минимальную цены для каждого из жанров (используйте функции groupby и agg, для подсчета минимальных и максимальных значений используйте max и min)."
   ]
  },
  {
   "cell_type": "code",
   "execution_count": 14,
   "id": "de29d05e",
   "metadata": {},
   "outputs": [
    {
     "name": "stdout",
     "output_type": "stream",
     "text": [
      "            price    \n",
      "              max min\n",
      "genre                \n",
      "Fiction        82   0\n",
      "Non Fiction   105   0\n"
     ]
    }
   ],
   "source": [
    "max_price = my_table[['price', 'genre']].groupby(['genre']).agg(['max', 'min'])\n",
    "print(max_price)"
   ]
  },
  {
   "cell_type": "markdown",
   "id": "6c60bca7",
   "metadata": {},
   "source": [
    "Максимальная цена для жанра Fiction? Ответ: 82"
   ]
  },
  {
   "cell_type": "markdown",
   "id": "67c596f3",
   "metadata": {},
   "source": [
    "Минимальная цена для жанра Fiction? Ответ: 0"
   ]
  },
  {
   "cell_type": "markdown",
   "id": "fd88fd98",
   "metadata": {},
   "source": [
    "Максимальная цена для жанра Non Fiction? Ответ: 105"
   ]
  },
  {
   "cell_type": "markdown",
   "id": "db77ffcd",
   "metadata": {},
   "source": [
    "Минимальная цена для жанра Non Fiction? Ответ:0"
   ]
  },
  {
   "cell_type": "markdown",
   "id": "a3d1bc69",
   "metadata": {},
   "source": [
    "Теперь создайте новый датафрейм, который будет вмещать в себя количество книг для каждого из авторов (используйте функции groupby и agg, для подсчета количества используйте count)."
   ]
  },
  {
   "cell_type": "code",
   "execution_count": 32,
   "id": "4210ce77",
   "metadata": {},
   "outputs": [
    {
     "name": "stdout",
     "output_type": "stream",
     "text": [
      "                         author  qnt\n",
      "0              Abraham Verghese    2\n",
      "1                Adam Gasiewski    1\n",
      "2                 Adam Mansbach    1\n",
      "3                     Adir Levy    1\n",
      "4    Admiral William H. McRaven    1\n",
      "..                          ...  ...\n",
      "243             Walter Isaacson    3\n",
      "244               William Davis    2\n",
      "245            William P. Young    2\n",
      "246            Wizards RPG Team    3\n",
      "247                Zhi Gang Sha    2\n",
      "\n",
      "[248 rows x 2 columns]\n",
      "кол-во столбцов :  2\n",
      "кол-во строк:  248\n"
     ]
    },
    {
     "data": {
      "text/html": [
       "<div>\n",
       "<style scoped>\n",
       "    .dataframe tbody tr th:only-of-type {\n",
       "        vertical-align: middle;\n",
       "    }\n",
       "\n",
       "    .dataframe tbody tr th {\n",
       "        vertical-align: top;\n",
       "    }\n",
       "\n",
       "    .dataframe thead th {\n",
       "        text-align: right;\n",
       "    }\n",
       "</style>\n",
       "<table border=\"1\" class=\"dataframe\">\n",
       "  <thead>\n",
       "    <tr style=\"text-align: right;\">\n",
       "      <th></th>\n",
       "      <th>author</th>\n",
       "      <th>qnt</th>\n",
       "    </tr>\n",
       "  </thead>\n",
       "  <tbody>\n",
       "    <tr>\n",
       "      <th>120</th>\n",
       "      <td>Jeff Kinney</td>\n",
       "      <td>12</td>\n",
       "    </tr>\n",
       "  </tbody>\n",
       "</table>\n",
       "</div>"
      ],
      "text/plain": [
       "          author  qnt\n",
       "120  Jeff Kinney   12"
      ]
     },
     "execution_count": 32,
     "metadata": {},
     "output_type": "execute_result"
    }
   ],
   "source": [
    "my_df = my_table[['author', 'name']]\n",
    "df_size = my_df.groupby(['author']).size().reset_index(name='qnt')\n",
    "print(f\"кол-во столбцов :  {df_size.shape[1]}\")\n",
    "print(f\"кол-во строк:  {df_size.shape[0]}\")\n",
    "df_size.agg(['max'])\n",
    "df_size.loc[df_size['qnt'] == 12]"
   ]
  },
  {
   "cell_type": "markdown",
   "id": "5c36982f",
   "metadata": {},
   "source": [
    "Какой размерности вышла таблица? Ответ: 2, 248\n",
    "У какого автора больше всего книг? Ответ: Jeff Kinney\n",
    "Сколько книг у этого автора? Ответ: 12"
   ]
  },
  {
   "cell_type": "markdown",
   "id": "87b810e9",
   "metadata": {},
   "source": [
    "Теперь создайте второй датафрейм, который будет вмещать средний рейтинг для каждого автора (используйте функции groupby и agg, для подсчета среднего значения используйте mean)."
   ]
  },
  {
   "cell_type": "code",
   "execution_count": 35,
   "id": "e57f40b7",
   "metadata": {},
   "outputs": [
    {
     "data": {
      "text/html": [
       "<div>\n",
       "<style scoped>\n",
       "    .dataframe tbody tr th:only-of-type {\n",
       "        vertical-align: middle;\n",
       "    }\n",
       "\n",
       "    .dataframe tbody tr th {\n",
       "        vertical-align: top;\n",
       "    }\n",
       "\n",
       "    .dataframe thead th {\n",
       "        text-align: right;\n",
       "    }\n",
       "</style>\n",
       "<table border=\"1\" class=\"dataframe\">\n",
       "  <thead>\n",
       "    <tr style=\"text-align: right;\">\n",
       "      <th></th>\n",
       "      <th>author</th>\n",
       "      <th>user_rating</th>\n",
       "    </tr>\n",
       "  </thead>\n",
       "  <tbody>\n",
       "    <tr>\n",
       "      <th>71</th>\n",
       "      <td>Donna Tartt</td>\n",
       "      <td>3.9</td>\n",
       "    </tr>\n",
       "  </tbody>\n",
       "</table>\n",
       "</div>"
      ],
      "text/plain": [
       "         author  user_rating\n",
       "71  Donna Tartt          3.9"
      ]
     },
     "execution_count": 35,
     "metadata": {},
     "output_type": "execute_result"
    }
   ],
   "source": [
    "avg_rating = my_table[['author', 'user_rating']].groupby(['author']).mean().reset_index()\n",
    "avg_rating.agg(['min'])\n",
    "avg_rating.loc[avg_rating['user_rating'] == 3.9]"
   ]
  },
  {
   "cell_type": "markdown",
   "id": "76eb65e7",
   "metadata": {},
   "source": [
    "У какого автора средний рейтинг минимальный? Ответ: Donna Tartt\n",
    "Какой у этого автора средний рейтинг? Ответ: 3.9"
   ]
  },
  {
   "cell_type": "markdown",
   "id": "315b9d63",
   "metadata": {},
   "source": [
    "Соедините последние два датафрейма так, чтобы для каждого автора было видно количество книг и средний рейтинг (Используйте функцию concat с параметром axis=1). Сохраните результат в переменную"
   ]
  },
  {
   "cell_type": "code",
   "execution_count": 40,
   "id": "135b2a6d",
   "metadata": {},
   "outputs": [
    {
     "name": "stdout",
     "output_type": "stream",
     "text": [
      "                         author  qnt  user_rating\n",
      "0              Abraham Verghese    2     4.600000\n",
      "1                Adam Gasiewski    1     4.400000\n",
      "2                 Adam Mansbach    1     4.800000\n",
      "3                     Adir Levy    1     4.800000\n",
      "4    Admiral William H. McRaven    1     4.700000\n",
      "..                          ...  ...          ...\n",
      "243             Walter Isaacson    3     4.566667\n",
      "244               William Davis    2     4.400000\n",
      "245            William P. Young    2     4.600000\n",
      "246            Wizards RPG Team    3     4.800000\n",
      "247                Zhi Gang Sha    2     4.600000\n",
      "\n",
      "[248 rows x 3 columns]\n"
     ]
    }
   ],
   "source": [
    "df_qnt_rating = pd.concat([df_size, avg_rating['user_rating']], axis=1)\n",
    "print(df_qnt_rating)"
   ]
  },
  {
   "cell_type": "code",
   "execution_count": 43,
   "id": "7151b0bd",
   "metadata": {},
   "outputs": [
    {
     "data": {
      "text/html": [
       "<div>\n",
       "<style scoped>\n",
       "    .dataframe tbody tr th:only-of-type {\n",
       "        vertical-align: middle;\n",
       "    }\n",
       "\n",
       "    .dataframe tbody tr th {\n",
       "        vertical-align: top;\n",
       "    }\n",
       "\n",
       "    .dataframe thead th {\n",
       "        text-align: right;\n",
       "    }\n",
       "</style>\n",
       "<table border=\"1\" class=\"dataframe\">\n",
       "  <thead>\n",
       "    <tr style=\"text-align: right;\">\n",
       "      <th></th>\n",
       "      <th>author</th>\n",
       "      <th>qnt</th>\n",
       "      <th>user_rating</th>\n",
       "    </tr>\n",
       "  </thead>\n",
       "  <tbody>\n",
       "    <tr>\n",
       "      <th>171</th>\n",
       "      <td>Muriel Barbery</td>\n",
       "      <td>1</td>\n",
       "      <td>4.000000</td>\n",
       "    </tr>\n",
       "    <tr>\n",
       "      <th>43</th>\n",
       "      <td>Chris Cleave</td>\n",
       "      <td>1</td>\n",
       "      <td>4.100000</td>\n",
       "    </tr>\n",
       "    <tr>\n",
       "      <th>109</th>\n",
       "      <td>Ian K. Smith M.D.</td>\n",
       "      <td>1</td>\n",
       "      <td>4.100000</td>\n",
       "    </tr>\n",
       "    <tr>\n",
       "      <th>186</th>\n",
       "      <td>Pierre Dukan</td>\n",
       "      <td>1</td>\n",
       "      <td>4.100000</td>\n",
       "    </tr>\n",
       "    <tr>\n",
       "      <th>81</th>\n",
       "      <td>Elizabeth Strout</td>\n",
       "      <td>1</td>\n",
       "      <td>4.200000</td>\n",
       "    </tr>\n",
       "    <tr>\n",
       "      <th>...</th>\n",
       "      <td>...</td>\n",
       "      <td>...</td>\n",
       "      <td>...</td>\n",
       "    </tr>\n",
       "    <tr>\n",
       "      <th>11</th>\n",
       "      <td>American Psychological Association</td>\n",
       "      <td>10</td>\n",
       "      <td>4.500000</td>\n",
       "    </tr>\n",
       "    <tr>\n",
       "      <th>226</th>\n",
       "      <td>Suzanne Collins</td>\n",
       "      <td>11</td>\n",
       "      <td>4.663636</td>\n",
       "    </tr>\n",
       "    <tr>\n",
       "      <th>92</th>\n",
       "      <td>Gary Chapman</td>\n",
       "      <td>11</td>\n",
       "      <td>4.736364</td>\n",
       "    </tr>\n",
       "    <tr>\n",
       "      <th>197</th>\n",
       "      <td>Rick Riordan</td>\n",
       "      <td>11</td>\n",
       "      <td>4.772727</td>\n",
       "    </tr>\n",
       "    <tr>\n",
       "      <th>120</th>\n",
       "      <td>Jeff Kinney</td>\n",
       "      <td>12</td>\n",
       "      <td>4.800000</td>\n",
       "    </tr>\n",
       "  </tbody>\n",
       "</table>\n",
       "<p>248 rows × 3 columns</p>\n",
       "</div>"
      ],
      "text/plain": [
       "                                 author  qnt  user_rating\n",
       "171                      Muriel Barbery    1     4.000000\n",
       "43                         Chris Cleave    1     4.100000\n",
       "109                   Ian K. Smith M.D.    1     4.100000\n",
       "186                        Pierre Dukan    1     4.100000\n",
       "81                     Elizabeth Strout    1     4.200000\n",
       "..                                  ...  ...          ...\n",
       "11   American Psychological Association   10     4.500000\n",
       "226                     Suzanne Collins   11     4.663636\n",
       "92                         Gary Chapman   11     4.736364\n",
       "197                        Rick Riordan   11     4.772727\n",
       "120                         Jeff Kinney   12     4.800000\n",
       "\n",
       "[248 rows x 3 columns]"
      ]
     },
     "execution_count": 43,
     "metadata": {},
     "output_type": "execute_result"
    }
   ],
   "source": [
    "df_qnt_rating.sort_values(by=['qnt', 'user_rating'])"
   ]
  },
  {
   "cell_type": "markdown",
   "id": "b3282394",
   "metadata": {},
   "source": [
    "Какой автор первый в списке? Ответ: Muriel Barbery"
   ]
  }
 ],
 "metadata": {
  "kernelspec": {
   "display_name": "Python 3 (ipykernel)",
   "language": "python",
   "name": "python3"
  },
  "language_info": {
   "codemirror_mode": {
    "name": "ipython",
    "version": 3
   },
   "file_extension": ".py",
   "mimetype": "text/x-python",
   "name": "python",
   "nbconvert_exporter": "python",
   "pygments_lexer": "ipython3",
   "version": "3.10.1"
  }
 },
 "nbformat": 4,
 "nbformat_minor": 5
}
