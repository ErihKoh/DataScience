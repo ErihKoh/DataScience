{
 "cells": [
  {
   "cell_type": "code",
   "execution_count": 14,
   "id": "9db4c808",
   "metadata": {},
   "outputs": [
    {
     "name": "stdout",
     "output_type": "stream",
     "text": [
      "             Регіон   1950   1960   1970  1990  2000  2012 2014 2019\n",
      "0              Крим  230.0  206.0  160.0   130    73   126    —    —\n",
      "1         Вінницька  224.0  192.0  142.0   124    84   112  109   76\n",
      "2         Волинська  247.0  250.0  179.0   153   112   148  141  101\n",
      "3  Дніпропетровська  204.0  204.0  151.0   123    71   112  111   71\n",
      "4          Донецька  271.0  214.0  140.0   109    61    98   82    —\n"
     ]
    }
   ],
   "source": [
    "import pandas as pd\n",
    "import requests\n",
    "\n",
    "\n",
    "response = requests.get(\n",
    "    \"https://uk.wikipedia.org/wiki/Населення_України#Народжуваність\"\n",
    ")\n",
    "\n",
    "tmp = pd.read_html(response.text)\n",
    "my_table = tmp[10]\n",
    "print(my_table.head(5))"
   ]
  },
  {
   "cell_type": "markdown",
   "id": "c3573aaf",
   "metadata": {},
   "source": [
    "Task2"
   ]
  },
  {
   "cell_type": "code",
   "execution_count": 5,
   "id": "bef22ef0",
   "metadata": {},
   "outputs": [
    {
     "name": "stdout",
     "output_type": "stream",
     "text": [
      "кол-во столбцов :  9\n",
      "кол-во строк:  28\n"
     ]
    }
   ],
   "source": [
    "print(f\"кол-во столбцов :  {my_table.shape[1]}\")\n",
    "print(f\"кол-во строк:  {my_table.shape[0]}\")"
   ]
  },
  {
   "cell_type": "markdown",
   "id": "06feb71d",
   "metadata": {},
   "source": [
    "Task3"
   ]
  },
  {
   "cell_type": "code",
   "execution_count": 16,
   "id": "573c15bd",
   "metadata": {},
   "outputs": [
    {
     "name": "stdout",
     "output_type": "stream",
     "text": [
      "               Регіон   1950   1960   1970  1990  2000  2012 2014 2019\n",
      "0                Крим  230.0  206.0  160.0   130    73   126  NaN  NaN\n",
      "1           Вінницька  224.0  192.0  142.0   124    84   112  109   76\n",
      "2           Волинська  247.0  250.0  179.0   153   112   148  141  101\n",
      "3    Дніпропетровська  204.0  204.0  151.0   123    71   112  111   71\n",
      "4            Донецька  271.0  214.0  140.0   109    61    98   82  NaN\n",
      "5         Житомирська  261.0  223.0  159.0   129    89   122  120   79\n",
      "6        Закарпатська  314.0  273.0  207.0   168   115   151  146  104\n",
      "7          Запорізька  219.0  197.0  150.0   124    71   106  106   68\n",
      "8   Івано-Франківська  243.0  248.0  182.0   155   103   124  122   88\n",
      "9            Київська  204.0  189.0  156.0   123    73   122  121   80\n",
      "10     Кіровоградська  216.0  171.0  145.0   126    79   110  108   68\n",
      "11          Луганська  262.0  235.0  144.0   116    62    96   51  NaN\n",
      "12          Львівська  234.0  240.0  171.0   140    91   119  119   87\n",
      "13       Миколаївська  211.0  194.0  155.0   137    80   115  112   71\n",
      "14            Одеська  241.0  192.0  148.0   126    80   127  123   88\n",
      "15         Полтавська  186.0  163.0  131.0   118    70    99  100   65\n",
      "16         Рівненська  269.0  267.0  193.0   158   118   159  148  107\n",
      "17            Сумська  216.0  184.0  132.0   115    70    97   92   60\n",
      "18      Тернопільська  213.0  216.0  157.0   142    92   113  109   76\n",
      "19         Харківська  197.0  173.0  140.0   114    68    99  101   68\n",
      "20         Херсонська  208.0  214.0  166.0   143    85   117  115   81\n",
      "21        Хмельницька  234.0  198.0  148.0   129    85   113  112   79\n",
      "22          Черкаська  205.0  179.0  144.0   123    75   100   98   64\n",
      "23        Чернівецька  247.0  218.0  170.0   148   101   128  129   92\n",
      "24       Чернігівська  220.0  183.0  127.0   108    69    94   90   61\n",
      "25               Київ    NaN  174.0  159.0   120    73   120  121  110\n",
      "26        Севастополь    NaN    NaN    NaN   125    70   120  NaN  NaN\n",
      "27            Україна  228.0  205.0  152.0   126    78   114  111   81\n"
     ]
    }
   ],
   "source": [
    "import numpy as np\n",
    "my_table = my_table.replace([\"—\"], np.nan)\n",
    "print(my_table)"
   ]
  },
  {
   "cell_type": "markdown",
   "id": "67e805f3",
   "metadata": {},
   "source": [
    "Task4"
   ]
  },
  {
   "cell_type": "code",
   "execution_count": 17,
   "id": "69a68e13",
   "metadata": {},
   "outputs": [
    {
     "name": "stdout",
     "output_type": "stream",
     "text": [
      "Регіон     object\n",
      "1950      float64\n",
      "1960      float64\n",
      "1970      float64\n",
      "1990        int64\n",
      "2000        int64\n",
      "2012        int64\n",
      "2014       object\n",
      "2019       object\n",
      "dtype: object\n"
     ]
    }
   ],
   "source": [
    "print(my_table.dtypes)"
   ]
  },
  {
   "cell_type": "markdown",
   "id": "1be07711",
   "metadata": {},
   "source": [
    "Task5"
   ]
  },
  {
   "cell_type": "code",
   "execution_count": 18,
   "id": "c983504d",
   "metadata": {},
   "outputs": [
    {
     "name": "stdout",
     "output_type": "stream",
     "text": [
      "Регіон     object\n",
      "1950      float64\n",
      "1960      float64\n",
      "1970      float64\n",
      "1990        int64\n",
      "2000        int64\n",
      "2012        int64\n",
      "2014      float64\n",
      "2019      float64\n",
      "dtype: object\n"
     ]
    }
   ],
   "source": [
    "my_table[\"2014\"] = my_table[\"2014\"].astype(float)\n",
    "my_table[\"2019\"] = my_table[\"2019\"].astype(float)\n",
    "print(my_table.dtypes)"
   ]
  },
  {
   "cell_type": "markdown",
   "id": "ffb3f4bb",
   "metadata": {},
   "source": [
    "Task6"
   ]
  },
  {
   "cell_type": "code",
   "execution_count": 19,
   "id": "6ecc956e",
   "metadata": {},
   "outputs": [
    {
     "name": "stdout",
     "output_type": "stream",
     "text": [
      "Регіон    0\n",
      "1950      2\n",
      "1960      1\n",
      "1970      1\n",
      "1990      0\n",
      "2000      0\n",
      "2012      0\n",
      "2014      2\n",
      "2019      4\n",
      "dtype: int64\n"
     ]
    }
   ],
   "source": [
    "i = my_table.isnull().sum()\n",
    "\n",
    "\n",
    "print(i)"
   ]
  },
  {
   "cell_type": "markdown",
   "id": "0fefba98",
   "metadata": {},
   "source": [
    "Task7"
   ]
  },
  {
   "cell_type": "code",
   "execution_count": 32,
   "id": "beaecc29",
   "metadata": {},
   "outputs": [
    {
     "name": "stdout",
     "output_type": "stream",
     "text": [
      "               Регіон   1950   1960   1970  1990  2000  2012   2014   2019\n",
      "0                Крим  230.0  206.0  160.0   130    73   126    NaN    NaN\n",
      "1           Вінницька  224.0  192.0  142.0   124    84   112  109.0   76.0\n",
      "2           Волинська  247.0  250.0  179.0   153   112   148  141.0  101.0\n",
      "3    Дніпропетровська  204.0  204.0  151.0   123    71   112  111.0   71.0\n",
      "4            Донецька  271.0  214.0  140.0   109    61    98   82.0    NaN\n",
      "5         Житомирська  261.0  223.0  159.0   129    89   122  120.0   79.0\n",
      "6        Закарпатська  314.0  273.0  207.0   168   115   151  146.0  104.0\n",
      "7          Запорізька  219.0  197.0  150.0   124    71   106  106.0   68.0\n",
      "8   Івано-Франківська  243.0  248.0  182.0   155   103   124  122.0   88.0\n",
      "9            Київська  204.0  189.0  156.0   123    73   122  121.0   80.0\n",
      "10     Кіровоградська  216.0  171.0  145.0   126    79   110  108.0   68.0\n",
      "11          Луганська  262.0  235.0  144.0   116    62    96   51.0    NaN\n",
      "12          Львівська  234.0  240.0  171.0   140    91   119  119.0   87.0\n",
      "13       Миколаївська  211.0  194.0  155.0   137    80   115  112.0   71.0\n",
      "14            Одеська  241.0  192.0  148.0   126    80   127  123.0   88.0\n",
      "15         Полтавська  186.0  163.0  131.0   118    70    99  100.0   65.0\n",
      "16         Рівненська  269.0  267.0  193.0   158   118   159  148.0  107.0\n",
      "17            Сумська  216.0  184.0  132.0   115    70    97   92.0   60.0\n",
      "18      Тернопільська  213.0  216.0  157.0   142    92   113  109.0   76.0\n",
      "19         Харківська  197.0  173.0  140.0   114    68    99  101.0   68.0\n",
      "20         Херсонська  208.0  214.0  166.0   143    85   117  115.0   81.0\n",
      "21        Хмельницька  234.0  198.0  148.0   129    85   113  112.0   79.0\n",
      "22          Черкаська  205.0  179.0  144.0   123    75   100   98.0   64.0\n",
      "23        Чернівецька  247.0  218.0  170.0   148   101   128  129.0   92.0\n",
      "24       Чернігівська  220.0  183.0  127.0   108    69    94   90.0   61.0\n",
      "25               Київ    NaN  174.0  159.0   120    73   120  121.0  110.0\n",
      "26        Севастополь    NaN    NaN    NaN   125    70   120    NaN    NaN\n"
     ]
    }
   ],
   "source": [
    "table_without_ua = my_table.drop(27)\n",
    "print(table_without_ua)"
   ]
  },
  {
   "cell_type": "markdown",
   "id": "3caeacc1",
   "metadata": {},
   "source": [
    "Task8"
   ]
  },
  {
   "cell_type": "code",
   "execution_count": 21,
   "id": "aa261347",
   "metadata": {},
   "outputs": [
    {
     "name": "stdout",
     "output_type": "stream",
     "text": [
      "               Регіон        1950        1960        1970  1990  2000  2012  \\\n",
      "0                Крим  230.000000  206.000000  160.000000   130    73   126   \n",
      "1           Вінницька  224.000000  192.000000  142.000000   124    84   112   \n",
      "2           Волинська  247.000000  250.000000  179.000000   153   112   148   \n",
      "3    Дніпропетровська  204.000000  204.000000  151.000000   123    71   112   \n",
      "4            Донецька  271.000000  214.000000  140.000000   109    61    98   \n",
      "5         Житомирська  261.000000  223.000000  159.000000   129    89   122   \n",
      "6        Закарпатська  314.000000  273.000000  207.000000   168   115   151   \n",
      "7          Запорізька  219.000000  197.000000  150.000000   124    71   106   \n",
      "8   Івано-Франківська  243.000000  248.000000  182.000000   155   103   124   \n",
      "9            Київська  204.000000  189.000000  156.000000   123    73   122   \n",
      "10     Кіровоградська  216.000000  171.000000  145.000000   126    79   110   \n",
      "11          Луганська  262.000000  235.000000  144.000000   116    62    96   \n",
      "12          Львівська  234.000000  240.000000  171.000000   140    91   119   \n",
      "13       Миколаївська  211.000000  194.000000  155.000000   137    80   115   \n",
      "14            Одеська  241.000000  192.000000  148.000000   126    80   127   \n",
      "15         Полтавська  186.000000  163.000000  131.000000   118    70    99   \n",
      "16         Рівненська  269.000000  267.000000  193.000000   158   118   159   \n",
      "17            Сумська  216.000000  184.000000  132.000000   115    70    97   \n",
      "18      Тернопільська  213.000000  216.000000  157.000000   142    92   113   \n",
      "19         Харківська  197.000000  173.000000  140.000000   114    68    99   \n",
      "20         Херсонська  208.000000  214.000000  166.000000   143    85   117   \n",
      "21        Хмельницька  234.000000  198.000000  148.000000   129    85   113   \n",
      "22          Черкаська  205.000000  179.000000  144.000000   123    75   100   \n",
      "23        Чернівецька  247.000000  218.000000  170.000000   148   101   128   \n",
      "24       Чернігівська  220.000000  183.000000  127.000000   108    69    94   \n",
      "25               Київ  230.923077  174.000000  159.000000   120    73   120   \n",
      "26        Севастополь  230.923077  207.481481  155.851852   125    70   120   \n",
      "27            Україна  228.000000  205.000000  152.000000   126    78   114   \n",
      "\n",
      "          2014        2019  \n",
      "0   111.423077   80.208333  \n",
      "1   109.000000   76.000000  \n",
      "2   141.000000  101.000000  \n",
      "3   111.000000   71.000000  \n",
      "4    82.000000   80.208333  \n",
      "5   120.000000   79.000000  \n",
      "6   146.000000  104.000000  \n",
      "7   106.000000   68.000000  \n",
      "8   122.000000   88.000000  \n",
      "9   121.000000   80.000000  \n",
      "10  108.000000   68.000000  \n",
      "11   51.000000   80.208333  \n",
      "12  119.000000   87.000000  \n",
      "13  112.000000   71.000000  \n",
      "14  123.000000   88.000000  \n",
      "15  100.000000   65.000000  \n",
      "16  148.000000  107.000000  \n",
      "17   92.000000   60.000000  \n",
      "18  109.000000   76.000000  \n",
      "19  101.000000   68.000000  \n",
      "20  115.000000   81.000000  \n",
      "21  112.000000   79.000000  \n",
      "22   98.000000   64.000000  \n",
      "23  129.000000   92.000000  \n",
      "24   90.000000   61.000000  \n",
      "25  121.000000  110.000000  \n",
      "26  111.423077   80.208333  \n",
      "27  111.000000   81.000000  \n"
     ]
    },
    {
     "name": "stderr",
     "output_type": "stream",
     "text": [
      "C:\\Users\\barsu\\AppData\\Local\\Temp\\ipykernel_8184\\2318654620.py:1: FutureWarning: Dropping of nuisance columns in DataFrame reductions (with 'numeric_only=None') is deprecated; in a future version this will raise TypeError.  Select only valid columns before calling the reduction.\n",
      "  fillna_table = my_table.fillna(my_table.mean())\n"
     ]
    }
   ],
   "source": [
    "fillna_table = my_table.fillna(my_table.mean())\n",
    "print(fillna_table)"
   ]
  },
  {
   "cell_type": "markdown",
   "id": "e8dd53f9",
   "metadata": {},
   "source": [
    "Task9"
   ]
  },
  {
   "cell_type": "code",
   "execution_count": 25,
   "id": "ba109e95",
   "metadata": {},
   "outputs": [
    {
     "name": "stdout",
     "output_type": "stream",
     "text": [
      "['Волинська' 'Закарпатська' 'Івано-Франківська' 'Львівська' 'Одеська'\n",
      " 'Рівненська' 'Чернівецька' 'Київ']\n"
     ]
    }
   ],
   "source": [
    "filter_table = my_table[my_table['2019'] > my_table['2019'][27]]\n",
    "my_list = filter_table[\"Регіон\"].values \n",
    "print(my_list)"
   ]
  },
  {
   "cell_type": "markdown",
   "id": "3c9530ad",
   "metadata": {},
   "source": [
    "Task10"
   ]
  },
  {
   "cell_type": "code",
   "execution_count": 31,
   "id": "f1c46ac7",
   "metadata": {},
   "outputs": [
    {
     "name": "stdout",
     "output_type": "stream",
     "text": [
      "Рівненська\n"
     ]
    }
   ],
   "source": [
    "max_value = my_table[\"2014\"].max()\n",
    "max_district = my_table[my_table['2014'] >= max_value]\n",
    "district = max_district[\"Регіон\"].values[0]\n",
    "print(district)"
   ]
  },
  {
   "cell_type": "markdown",
   "id": "0c03a698",
   "metadata": {},
   "source": [
    "Task11"
   ]
  },
  {
   "cell_type": "code",
   "execution_count": 34,
   "id": "4b8954d1",
   "metadata": {},
   "outputs": [
    {
     "name": "stdout",
     "output_type": "stream",
     "text": [
      "Defaulting to user installation because normal site-packages is not writeable\n",
      "Collecting matplotlib\n",
      "  Downloading matplotlib-3.5.1-cp310-cp310-win_amd64.whl (7.2 MB)\n",
      "     ---------------------------------------- 7.2/7.2 MB 2.3 MB/s eta 0:00:00\n",
      "Requirement already satisfied: python-dateutil>=2.7 in c:\\users\\barsu\\appdata\\roaming\\python\\python310\\site-packages (from matplotlib) (2.8.2)\n",
      "Requirement already satisfied: numpy>=1.17 in c:\\users\\barsu\\appdata\\roaming\\python\\python310\\site-packages (from matplotlib) (1.22.3)\n",
      "Collecting kiwisolver>=1.0.1\n",
      "  Downloading kiwisolver-1.4.2-cp310-cp310-win_amd64.whl (55 kB)\n",
      "     ---------------------------------------- 55.3/55.3 KB ? eta 0:00:00\n",
      "Collecting fonttools>=4.22.0\n",
      "  Downloading fonttools-4.32.0-py3-none-any.whl (900 kB)\n",
      "     -------------------------------------- 900.8/900.8 KB 3.0 MB/s eta 0:00:00\n",
      "Collecting cycler>=0.10\n",
      "  Downloading cycler-0.11.0-py3-none-any.whl (6.4 kB)\n",
      "Requirement already satisfied: pyparsing>=2.2.1 in c:\\users\\barsu\\appdata\\roaming\\python\\python310\\site-packages (from matplotlib) (3.0.7)\n",
      "Collecting pillow>=6.2.0\n",
      "  Downloading Pillow-9.1.0-cp310-cp310-win_amd64.whl (3.3 MB)\n",
      "     ---------------------------------------- 3.3/3.3 MB 2.9 MB/s eta 0:00:00\n",
      "Requirement already satisfied: packaging>=20.0 in c:\\users\\barsu\\appdata\\roaming\\python\\python310\\site-packages (from matplotlib) (21.3)\n",
      "Requirement already satisfied: six>=1.5 in c:\\users\\barsu\\appdata\\roaming\\python\\python310\\site-packages (from python-dateutil>=2.7->matplotlib) (1.16.0)\n",
      "Installing collected packages: pillow, kiwisolver, fonttools, cycler, matplotlib\n",
      "Successfully installed cycler-0.11.0 fonttools-4.32.0 kiwisolver-1.4.2 matplotlib-3.5.1 pillow-9.1.0\n"
     ]
    },
    {
     "name": "stderr",
     "output_type": "stream",
     "text": [
      "WARNING: Ignoring invalid distribution -ip (c:\\users\\barsu\\appdata\\roaming\\python\\python310\\site-packages)\n",
      "WARNING: Ignoring invalid distribution -ip (c:\\users\\barsu\\appdata\\roaming\\python\\python310\\site-packages)\n",
      "WARNING: Ignoring invalid distribution -ip (c:\\users\\barsu\\appdata\\roaming\\python\\python310\\site-packages)\n",
      "WARNING: Ignoring invalid distribution -ip (c:\\users\\barsu\\appdata\\roaming\\python\\python310\\site-packages)\n",
      "WARNING: Ignoring invalid distribution -ip (c:\\users\\barsu\\appdata\\roaming\\python\\python310\\site-packages)\n",
      "WARNING: Ignoring invalid distribution -ip (c:\\users\\barsu\\appdata\\roaming\\python\\python310\\site-packages)\n",
      "WARNING: Ignoring invalid distribution -ip (c:\\users\\barsu\\appdata\\roaming\\python\\python310\\site-packages)\n",
      "WARNING: Ignoring invalid distribution -ip (c:\\users\\barsu\\appdata\\roaming\\python\\python310\\site-packages)\n",
      "WARNING: Ignoring invalid distribution -ip (c:\\users\\barsu\\appdata\\roaming\\python\\python310\\site-packages)\n",
      "WARNING: Ignoring invalid distribution -ip (c:\\users\\barsu\\appdata\\roaming\\python\\python310\\site-packages)\n"
     ]
    }
   ],
   "source": [
    "!pip install matplotlib"
   ]
  },
  {
   "cell_type": "code",
   "execution_count": 41,
   "id": "07567e3b",
   "metadata": {},
   "outputs": [
    {
     "data": {
      "image/png": "[encoded data removed]",
      "text/plain": [
       "<Figure size 432x288 with 1 Axes>"
      ]
     },
     "metadata": {
      "needs_background": "light"
     },
     "output_type": "display_data"
    }
   ],
   "source": [
    "import matplotlib.pyplot as plt\n",
    "table_without_ua[\"2019\"].plot(kind=\"bar\")\n",
    "plt.xlabel(\"Регіон\", fontsize=\"small\", color=\"midnightblue\")\n",
    "plt.show()"
   ]
  }
 ],
 "metadata": {
  "kernelspec": {
   "display_name": "Python 3 (ipykernel)",
   "language": "python",
   "name": "python3"
  },
  "language_info": {
   "codemirror_mode": {
    "name": "ipython",
    "version": 3
   },
   "file_extension": ".py",
   "mimetype": "text/x-python",
   "name": "python",
   "nbconvert_exporter": "python",
   "pygments_lexer": "ipython3",
   "version": "3.10.1"
  }
 },
 "nbformat": 4,
 "nbformat_minor": 5
}
