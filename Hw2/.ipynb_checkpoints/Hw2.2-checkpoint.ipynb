{
 "cells": [
  {
   "cell_type": "markdown",
   "id": "09a9ea18",
   "metadata": {},
   "source": [
    "Task1"
   ]
  },
  {
   "cell_type": "code",
   "execution_count": 1,
   "id": "df536262",
   "metadata": {},
   "outputs": [
    {
     "name": "stdout",
     "output_type": "stream",
     "text": [
      "   N                 Должность Язык.программирования Специализация  \\\n",
      "0  1        Junior QA engineer                   NaN     Manual QA   \n",
      "1  2        Junior QA engineer                   NaN     Manual QA   \n",
      "2  3         Software Engineer               C#/.NET           NaN   \n",
      "3  4         Software Engineer            JavaScript           NaN   \n",
      "4  5  Senior Software Engineer            JavaScript           NaN   \n",
      "\n",
      "  Общий.опыт.работы Опыт.работы.на.текущем.месте  Зарплата.в.месяц  \\\n",
      "0               0.5                          0.5               400   \n",
      "1  меньше 3 месяцев             меньше 3 месяцев               430   \n",
      "2                 4                            1              2500   \n",
      "3                 5                            4              2000   \n",
      "4    10 и более лет                          0.5              4500   \n",
      "\n",
      "   Изменение.зарплаты.за.12.месяцев    Город     Размер.компании  ...  \\\n",
      "0                                 0  Харьков       до 10 человек  ...   \n",
      "1                               130  Харьков  свыше 1000 человек  ...   \n",
      "2                               800     Киев     до 1000 человек  ...   \n",
      "3                               400   Одесса      до 200 человек  ...   \n",
      "4                               500   Другой       до 10 человек  ...   \n",
      "\n",
      "  Еще.студент Уровень.английского                    Предметная.область  \\\n",
      "0        True       ниже среднего                         iOS,eCommerce   \n",
      "1        True       выше среднего                        Веб-разработка   \n",
      "2       False             средний  Веб-разработка,Корпоративные системы   \n",
      "3       False       ниже среднего   Desktop Applications,Веб-разработка   \n",
      "4       False             средний   Desktop Applications,Веб-разработка   \n",
      "\n",
      "       Дата.заполнения                                         User.Agent  \\\n",
      "0  12/06/2017 12:38:08  Mozilla/5.0 (Windows NT 10.0; Win64; x64) Appl...   \n",
      "1  12/06/2017 12:42:51  Mozilla/5.0 (iPad; CPU OS 10_2_1 like Mac OS X...   \n",
      "2  12/06/2017 13:02:47  Mozilla/5.0 (Windows NT 10.0; Win64; x64) Appl...   \n",
      "3  12/06/2017 13:03:01  Mozilla/5.0 (Windows NT 6.1; Win64; x64) Apple...   \n",
      "4  12/06/2017 13:03:47  Mozilla/5.0 (iPhone; CPU iPhone OS 10_3_2 like...   \n",
      "\n",
      "    exp current_job_exp salary Валюта  cls  \n",
      "0   0.5             0.5    400    NaN   QA  \n",
      "1   0.0             0.0    430    NaN   QA  \n",
      "2   4.0             1.0   2500    NaN  DEV  \n",
      "3   5.0             4.0   2000    NaN  DEV  \n",
      "4  10.0             0.5   4500    NaN  DEV  \n",
      "\n",
      "[5 rows x 25 columns]\n"
     ]
    }
   ],
   "source": [
    "import pandas as pd\n",
    "\n",
    "my_table = pd.read_csv(\"2017_jun_final.csv\")\n",
    "\n",
    "print(my_table.head())"
   ]
  },
  {
   "cell_type": "markdown",
   "id": "669187b4",
   "metadata": {},
   "source": [
    "Task2"
   ]
  },
  {
   "cell_type": "code",
   "execution_count": 6,
   "id": "f9b8dbf6",
   "metadata": {},
   "outputs": [
    {
     "name": "stdout",
     "output_type": "stream",
     "text": [
      "кол-во столбцов :  25\n",
      "кол-во строк:  8704\n"
     ]
    }
   ],
   "source": [
    "print(f\"кол-во столбцов :  {my_table.shape[1]}\")\n",
    "print(f\"кол-во строк:  {my_table.shape[0]}\")"
   ]
  },
  {
   "cell_type": "markdown",
   "id": "d3d83c44",
   "metadata": {},
   "source": [
    "Task3"
   ]
  },
  {
   "cell_type": "code",
   "execution_count": 7,
   "id": "5c3add4a",
   "metadata": {},
   "outputs": [
    {
     "name": "stdout",
     "output_type": "stream",
     "text": [
      "N                                     int64\n",
      "Должность                            object\n",
      "Язык.программирования                object\n",
      "Специализация                        object\n",
      "Общий.опыт.работы                    object\n",
      "Опыт.работы.на.текущем.месте         object\n",
      "Зарплата.в.месяц                      int64\n",
      "Изменение.зарплаты.за.12.месяцев      int64\n",
      "Город                                object\n",
      "Размер.компании                      object\n",
      "Тип.компании                         object\n",
      "Пол                                  object\n",
      "Возраст                               int64\n",
      "Образование                          object\n",
      "Университет                          object\n",
      "Еще.студент                            bool\n",
      "Уровень.английского                  object\n",
      "Предметная.область                   object\n",
      "Дата.заполнения                      object\n",
      "User.Agent                           object\n",
      "exp                                 float64\n",
      "current_job_exp                     float64\n",
      "salary                                int64\n",
      "Валюта                               object\n",
      "cls                                  object\n",
      "dtype: object\n"
     ]
    }
   ],
   "source": [
    "print(my_table.dtypes)"
   ]
  },
  {
   "cell_type": "markdown",
   "id": "b693dc04",
   "metadata": {},
   "source": [
    "Task4"
   ]
  },
  {
   "cell_type": "code",
   "execution_count": 8,
   "id": "bb3adb54",
   "metadata": {},
   "outputs": [
    {
     "name": "stdout",
     "output_type": "stream",
     "text": [
      "N                                      0\n",
      "Должность                              0\n",
      "Язык.программирования               3850\n",
      "Специализация                       7219\n",
      "Общий.опыт.работы                      0\n",
      "Опыт.работы.на.текущем.месте           0\n",
      "Зарплата.в.месяц                       0\n",
      "Изменение.зарплаты.за.12.месяцев       0\n",
      "Город                                  0\n",
      "Размер.компании                        0\n",
      "Тип.компании                           0\n",
      "Пол                                    0\n",
      "Возраст                                0\n",
      "Образование                            0\n",
      "Университет                          358\n",
      "Еще.студент                            0\n",
      "Уровень.английского                    0\n",
      "Предметная.область                   223\n",
      "Дата.заполнения                        0\n",
      "User.Agent                             0\n",
      "exp                                    0\n",
      "current_job_exp                        0\n",
      "salary                                 0\n",
      "Валюта                              8694\n",
      "cls                                 1574\n",
      "dtype: int64\n"
     ]
    }
   ],
   "source": [
    "i = my_table.isnull().sum()\n",
    "\n",
    "print(i)"
   ]
  },
  {
   "cell_type": "markdown",
   "id": "09afc693",
   "metadata": {},
   "source": [
    "Task5"
   ]
  },
  {
   "cell_type": "code",
   "execution_count": 2,
   "id": "d5537015",
   "metadata": {},
   "outputs": [
    {
     "name": "stdout",
     "output_type": "stream",
     "text": [
      "         N                 Должность Общий.опыт.работы  \\\n",
      "0        1        Junior QA engineer               0.5   \n",
      "1        2        Junior QA engineer  меньше 3 месяцев   \n",
      "2        3         Software Engineer                 4   \n",
      "3        4         Software Engineer                 5   \n",
      "4        5  Senior Software Engineer    10 и более лет   \n",
      "...    ...                       ...               ...   \n",
      "8699  8700               QA engineer                 1   \n",
      "8700  8701                 Marketing               0.5   \n",
      "8701  8702  Junior Software Engineer                 1   \n",
      "8702  8703                 Team lead                 6   \n",
      "8703  8704  Senior Software Engineer                 7   \n",
      "\n",
      "     Опыт.работы.на.текущем.месте  Зарплата.в.месяц  \\\n",
      "0                             0.5               400   \n",
      "1                меньше 3 месяцев               430   \n",
      "2                               1              2500   \n",
      "3                               4              2000   \n",
      "4                             0.5              4500   \n",
      "...                           ...               ...   \n",
      "8699             меньше 3 месяцев               700   \n",
      "8700                          0.5               400   \n",
      "8701                          0.5               800   \n",
      "8702                            4              2600   \n",
      "8703                            2              5000   \n",
      "\n",
      "      Изменение.зарплаты.за.12.месяцев    Город     Размер.компании  \\\n",
      "0                                    0  Харьков       до 10 человек   \n",
      "1                                  130  Харьков  свыше 1000 человек   \n",
      "2                                  800     Киев     до 1000 человек   \n",
      "3                                  400   Одесса      до 200 человек   \n",
      "4                                  500   Другой       до 10 человек   \n",
      "...                                ...      ...                 ...   \n",
      "8699                               700   Одесса       до 50 человек   \n",
      "8700                               120     Киев       до 50 человек   \n",
      "8701                               500    Львов       до 10 человек   \n",
      "8702                                 0    Днепр  свыше 1000 человек   \n",
      "8703                               800   Одесса     до 1000 человек   \n",
      "\n",
      "         Тип.компании      Пол  Возраст           Образование  Еще.студент  \\\n",
      "0      Аутсорсинговая  женский       20  Незаконченное высшее         True   \n",
      "1      Аутсорсинговая  женский       21  Незаконченное высшее         True   \n",
      "2      Аутсорсинговая  мужской       26                Высшее        False   \n",
      "3         Продуктовая  мужской       30               Среднее        False   \n",
      "4         Продуктовая  мужской       30    Техникум / Колледж        False   \n",
      "...               ...      ...      ...                   ...          ...   \n",
      "8699   Аутсорсинговая  мужской       23                Высшее        False   \n",
      "8700      Продуктовая  женский       22                Высшее        False   \n",
      "8701  Аутстаффинговая  мужской       30  Незаконченное высшее        False   \n",
      "8702   Аутсорсинговая  мужской       34                Высшее        False   \n",
      "8703      Продуктовая  мужской       28                Высшее        False   \n",
      "\n",
      "     Уровень.английского      Дата.заполнения  \\\n",
      "0          ниже среднего  12/06/2017 12:38:08   \n",
      "1          выше среднего  12/06/2017 12:42:51   \n",
      "2                средний  12/06/2017 13:02:47   \n",
      "3          ниже среднего  12/06/2017 13:03:01   \n",
      "4                средний  12/06/2017 13:03:47   \n",
      "...                  ...                  ...   \n",
      "8699             средний  12/07/2017 15:45:24   \n",
      "8700       ниже среднего  12/07/2017 17:00:06   \n",
      "8701       выше среднего  12/07/2017 17:32:26   \n",
      "8702         продвинутый  12/07/2017 18:14:59   \n",
      "8703       выше среднего  12/07/2017 21:28:57   \n",
      "\n",
      "                                             User.Agent   exp  \\\n",
      "0     Mozilla/5.0 (Windows NT 10.0; Win64; x64) Appl...   0.5   \n",
      "1     Mozilla/5.0 (iPad; CPU OS 10_2_1 like Mac OS X...   0.0   \n",
      "2     Mozilla/5.0 (Windows NT 10.0; Win64; x64) Appl...   4.0   \n",
      "3     Mozilla/5.0 (Windows NT 6.1; Win64; x64) Apple...   5.0   \n",
      "4     Mozilla/5.0 (iPhone; CPU iPhone OS 10_3_2 like...  10.0   \n",
      "...                                                 ...   ...   \n",
      "8699  Mozilla/5.0 (X11; Ubuntu; Linux x86_64; rv:54....   1.0   \n",
      "8700  Mozilla/5.0 (Windows NT 10.0; Win64; x64) Appl...   0.5   \n",
      "8701  Mozilla/5.0 (X11; Linux x86_64) AppleWebKit/53...   1.0   \n",
      "8702  Mozilla/5.0 (Windows NT 6.1) AppleWebKit/537.3...   6.0   \n",
      "8703  Mozilla/5.0 (iPad; CPU OS 10_3_2 like Mac OS X...   7.0   \n",
      "\n",
      "      current_job_exp  salary Язык.программирования  \n",
      "0                 0.5     400                   NaN  \n",
      "1                 0.0     430                   NaN  \n",
      "2                 1.0    2500               C#/.NET  \n",
      "3                 4.0    2000            JavaScript  \n",
      "4                 0.5    4500            JavaScript  \n",
      "...               ...     ...                   ...  \n",
      "8699              0.0     700                   NaN  \n",
      "8700              0.5     400                   NaN  \n",
      "8701              0.5     800            Ruby/Rails  \n",
      "8702              4.0    2600                   NaN  \n",
      "8703              2.0    5000                  Java  \n",
      "\n",
      "[8704 rows x 20 columns]\n"
     ]
    }
   ],
   "source": [
    "lang = my_table[\"Язык.программирования\"]\n",
    "table_without_nan = my_table.dropna(axis=1)\n",
    "result_table = pd.concat([table_without_nan, lang], axis=1)\n",
    "print(result_table)"
   ]
  },
  {
   "cell_type": "markdown",
   "id": "d8194e2c",
   "metadata": {},
   "source": [
    "Task6"
   ]
  },
  {
   "cell_type": "code",
   "execution_count": 23,
   "id": "f602861d",
   "metadata": {},
   "outputs": [
    {
     "name": "stdout",
     "output_type": "stream",
     "text": [
      "N                                      0\n",
      "Должность                              0\n",
      "Общий.опыт.работы                      0\n",
      "Опыт.работы.на.текущем.месте           0\n",
      "Зарплата.в.месяц                       0\n",
      "Изменение.зарплаты.за.12.месяцев       0\n",
      "Город                                  0\n",
      "Размер.компании                        0\n",
      "Тип.компании                           0\n",
      "Пол                                    0\n",
      "Возраст                                0\n",
      "Образование                            0\n",
      "Еще.студент                            0\n",
      "Уровень.английского                    0\n",
      "Дата.заполнения                        0\n",
      "User.Agent                             0\n",
      "exp                                    0\n",
      "current_job_exp                        0\n",
      "salary                                 0\n",
      "Язык.программирования               3850\n",
      "dtype: int64\n"
     ]
    }
   ],
   "source": [
    "j = result_table.isnull().sum()\n",
    "\n",
    "print(j)"
   ]
  },
  {
   "cell_type": "markdown",
   "id": "0db0d530",
   "metadata": {},
   "source": [
    "Task7"
   ]
  },
  {
   "cell_type": "code",
   "execution_count": 3,
   "id": "f891768f",
   "metadata": {},
   "outputs": [
    {
     "name": "stdout",
     "output_type": "stream",
     "text": [
      "         N                 Должность Общий.опыт.работы  \\\n",
      "2        3         Software Engineer                 4   \n",
      "3        4         Software Engineer                 5   \n",
      "4        5  Senior Software Engineer    10 и более лет   \n",
      "6        7  Junior Software Engineer                 1   \n",
      "7        8  Senior Software Engineer                 6   \n",
      "...    ...                       ...               ...   \n",
      "8692  8693         Software Engineer                 5   \n",
      "8694  8695  Junior Software Engineer                 1   \n",
      "8695  8696         Software Engineer                 1   \n",
      "8701  8702  Junior Software Engineer                 1   \n",
      "8703  8704  Senior Software Engineer                 7   \n",
      "\n",
      "     Опыт.работы.на.текущем.месте  Зарплата.в.месяц  \\\n",
      "2                               1              2500   \n",
      "3                               4              2000   \n",
      "4                             0.5              4500   \n",
      "6                меньше 3 месяцев               600   \n",
      "7                               1              3300   \n",
      "...                           ...               ...   \n",
      "8692                            1              3500   \n",
      "8694                            1               550   \n",
      "8695                          0.5              1500   \n",
      "8701                          0.5               800   \n",
      "8703                            2              5000   \n",
      "\n",
      "      Изменение.зарплаты.за.12.месяцев        Город  Размер.компании  \\\n",
      "2                                  800         Киев  до 1000 человек   \n",
      "3                                  400       Одесса   до 200 человек   \n",
      "4                                  500       Другой    до 10 человек   \n",
      "6                                  100  Хмельницкий    до 50 человек   \n",
      "7                                  500         Киев    до 10 человек   \n",
      "...                                ...          ...              ...   \n",
      "8692                               650     Удаленно   до 200 человек   \n",
      "8694                               550      Харьков   до 200 человек   \n",
      "8695                              1000         Киев    до 10 человек   \n",
      "8701                               500        Львов    до 10 человек   \n",
      "8703                               800       Одесса  до 1000 человек   \n",
      "\n",
      "         Тип.компании      Пол  Возраст           Образование  Еще.студент  \\\n",
      "2      Аутсорсинговая  мужской       26                Высшее        False   \n",
      "3         Продуктовая  мужской       30               Среднее        False   \n",
      "4         Продуктовая  мужской       30    Техникум / Колледж        False   \n",
      "6      Аутсорсинговая  мужской       23                Высшее        False   \n",
      "7         Продуктовая  мужской       28                Высшее        False   \n",
      "...               ...      ...      ...                   ...          ...   \n",
      "8692   Аутсорсинговая  женский       28                Высшее        False   \n",
      "8694   Аутсорсинговая  мужской       23                Высшее        False   \n",
      "8695          Стартап  мужской       29                Высшее        False   \n",
      "8701  Аутстаффинговая  мужской       30  Незаконченное высшее        False   \n",
      "8703      Продуктовая  мужской       28                Высшее        False   \n",
      "\n",
      "     Уровень.английского      Дата.заполнения  \\\n",
      "2                средний  12/06/2017 13:02:47   \n",
      "3          ниже среднего  12/06/2017 13:03:01   \n",
      "4                средний  12/06/2017 13:03:47   \n",
      "6          ниже среднего  12/06/2017 13:04:26   \n",
      "7          выше среднего  12/06/2017 13:04:27   \n",
      "...                  ...                  ...   \n",
      "8692             средний  12/07/2017 13:26:49   \n",
      "8694       ниже среднего  12/07/2017 14:14:33   \n",
      "8695             средний  12/07/2017 14:39:21   \n",
      "8701       выше среднего  12/07/2017 17:32:26   \n",
      "8703       выше среднего  12/07/2017 21:28:57   \n",
      "\n",
      "                                             User.Agent   exp  \\\n",
      "2     Mozilla/5.0 (Windows NT 10.0; Win64; x64) Appl...   4.0   \n",
      "3     Mozilla/5.0 (Windows NT 6.1; Win64; x64) Apple...   5.0   \n",
      "4     Mozilla/5.0 (iPhone; CPU iPhone OS 10_3_2 like...  10.0   \n",
      "6     Mozilla/5.0 (Windows NT 10.0; Win64; x64) Appl...   1.0   \n",
      "7     Mozilla/5.0 (X11; Ubuntu; Linux x86_64; rv:53....   6.0   \n",
      "...                                                 ...   ...   \n",
      "8692  Mozilla/5.0 (Macintosh; Intel Mac OS X 10_12_5...   5.0   \n",
      "8694  Mozilla/5.0 (Windows NT 10.0; WOW64; rv:54.0) ...   1.0   \n",
      "8695  Mozilla/5.0 (X11; Linux x86_64) AppleWebKit/53...   1.0   \n",
      "8701  Mozilla/5.0 (X11; Linux x86_64) AppleWebKit/53...   1.0   \n",
      "8703  Mozilla/5.0 (iPad; CPU OS 10_3_2 like Mac OS X...   7.0   \n",
      "\n",
      "      current_job_exp  salary Язык.программирования  \n",
      "2                 1.0    2500               C#/.NET  \n",
      "3                 4.0    2000            JavaScript  \n",
      "4                 0.5    4500            JavaScript  \n",
      "6                 0.0     600               C#/.NET  \n",
      "7                 1.0    3300                   C++  \n",
      "...               ...     ...                   ...  \n",
      "8692              1.0    3500                  Java  \n",
      "8694              1.0     550               C#/.NET  \n",
      "8695              0.5    1500                Python  \n",
      "8701              0.5     800            Ruby/Rails  \n",
      "8703              2.0    5000                  Java  \n",
      "\n",
      "[4854 rows x 20 columns]\n"
     ]
    }
   ],
   "source": [
    "result_dropna = result_table.dropna()\n",
    "print(result_dropna)"
   ]
  },
  {
   "cell_type": "markdown",
   "id": "f5187a4f",
   "metadata": {},
   "source": [
    "Task8"
   ]
  },
  {
   "cell_type": "code",
   "execution_count": 4,
   "id": "399fabce",
   "metadata": {},
   "outputs": [
    {
     "name": "stdout",
     "output_type": "stream",
     "text": [
      "кол-во столбцов :  20\n",
      "кол-во строк:  4854\n"
     ]
    }
   ],
   "source": [
    "print(f\"кол-во столбцов :  {result_dropna.shape[1]}\")\n",
    "print(f\"кол-во строк:  {result_dropna.shape[0]}\")"
   ]
  },
  {
   "cell_type": "markdown",
   "id": "c24c0020",
   "metadata": {},
   "source": [
    "Task9"
   ]
  },
  {
   "cell_type": "code",
   "execution_count": 5,
   "id": "19ee02d0",
   "metadata": {},
   "outputs": [
    {
     "name": "stdout",
     "output_type": "stream",
     "text": [
      "         N                 Должность Общий.опыт.работы  \\\n",
      "12      13         Software Engineer                 1   \n",
      "68      69         Software Engineer               1.5   \n",
      "87      88  Junior Software Engineer               0.5   \n",
      "114    115  Junior Software Engineer               1.5   \n",
      "143    144  Junior Software Engineer                 1   \n",
      "...    ...                       ...               ...   \n",
      "8546  8547         Software Engineer                 5   \n",
      "8625  8626         Software Engineer                 4   \n",
      "8635  8636  Senior Software Engineer    10 и более лет   \n",
      "8673  8674  Junior Software Engineer               0.5   \n",
      "8695  8696         Software Engineer                 1   \n",
      "\n",
      "     Опыт.работы.на.текущем.месте  Зарплата.в.месяц  \\\n",
      "12               меньше 3 месяцев               800   \n",
      "68                            0.5               900   \n",
      "87                            0.5               600   \n",
      "114                           0.5               685   \n",
      "143                             1               750   \n",
      "...                           ...               ...   \n",
      "8546                            1              2000   \n",
      "8625                            1              1750   \n",
      "8635             меньше 3 месяцев              4000   \n",
      "8673                          0.5               350   \n",
      "8695                          0.5              1500   \n",
      "\n",
      "      Изменение.зарплаты.за.12.месяцев      Город     Размер.компании  \\\n",
      "12                                 200       Киев       до 50 человек   \n",
      "68                                 900       Киев       до 10 человек   \n",
      "87                                   0       Киев       до 10 человек   \n",
      "114                                250       Киев     до 1000 человек   \n",
      "143                                250       Киев       до 10 человек   \n",
      "...                                ...        ...                 ...   \n",
      "8546                               800  Запорожье       до 50 человек   \n",
      "8625                                 0       Киев  свыше 1000 человек   \n",
      "8635                              1300   Удаленно       до 10 человек   \n",
      "8673                                50       Киев       до 50 человек   \n",
      "8695                              1000       Киев       до 10 человек   \n",
      "\n",
      "        Тип.компании      Пол  Возраст           Образование  Еще.студент  \\\n",
      "12    Аутсорсинговая  мужской       26                Высшее        False   \n",
      "68           Стартап  мужской       21  Незаконченное высшее         True   \n",
      "87    Аутсорсинговая  мужской       19  Незаконченное высшее         True   \n",
      "114   Аутсорсинговая  мужской       21  Незаконченное высшее        False   \n",
      "143   Аутсорсинговая  мужской       21  Незаконченное высшее         True   \n",
      "...              ...      ...      ...                   ...          ...   \n",
      "8546  Аутсорсинговая  мужской       22  Незаконченное высшее        False   \n",
      "8625  Аутсорсинговая  мужской       28               Среднее        False   \n",
      "8635         Стартап  мужской       33                Высшее        False   \n",
      "8673  Аутсорсинговая  мужской       22                Высшее        False   \n",
      "8695         Стартап  мужской       29                Высшее        False   \n",
      "\n",
      "     Уровень.английского      Дата.заполнения  \\\n",
      "12         ниже среднего  12/06/2017 13:05:54   \n",
      "68         выше среднего  12/06/2017 13:11:17   \n",
      "87         выше среднего  12/06/2017 13:12:25   \n",
      "114              средний  12/06/2017 13:14:52   \n",
      "143        выше среднего  12/06/2017 13:19:10   \n",
      "...                  ...                  ...   \n",
      "8546             средний  10/07/2017 14:11:26   \n",
      "8625             средний  11/07/2017 16:15:40   \n",
      "8635       выше среднего  11/07/2017 17:51:36   \n",
      "8673             средний  12/07/2017 09:37:16   \n",
      "8695             средний  12/07/2017 14:39:21   \n",
      "\n",
      "                                             User.Agent   exp  \\\n",
      "12    Mozilla/5.0 (Windows NT 6.1; Win64; x64) Apple...   1.0   \n",
      "68    Mozilla/5.0 (Windows NT 10.0; Win64; x64) Appl...   1.5   \n",
      "87    Mozilla/5.0 (X11; Linux x86_64) AppleWebKit/53...   0.5   \n",
      "114   Mozilla/5.0 (X11; Linux x86_64) AppleWebKit/53...   1.5   \n",
      "143   Mozilla/5.0 (X11; Linux x86_64) AppleWebKit/53...   1.0   \n",
      "...                                                 ...   ...   \n",
      "8546  Mozilla/5.0 (Macintosh; Intel Mac OS X 10_12_5...   5.0   \n",
      "8625  Mozilla/5.0 (X11; Ubuntu; Linux x86_64; rv:54....   4.0   \n",
      "8635  Mozilla/5.0 (X11; Linux x86_64) AppleWebKit/53...  10.0   \n",
      "8673  Mozilla/5.0 (X11; Ubuntu; Linux x86_64; rv:54....   0.5   \n",
      "8695  Mozilla/5.0 (X11; Linux x86_64) AppleWebKit/53...   1.0   \n",
      "\n",
      "      current_job_exp  salary Язык.программирования  \n",
      "12                0.0     800                Python  \n",
      "68                0.5     900                Python  \n",
      "87                0.5     600                Python  \n",
      "114               0.5     685                Python  \n",
      "143               1.0     750                Python  \n",
      "...               ...     ...                   ...  \n",
      "8546              1.0    2000                Python  \n",
      "8625              1.0    1750                Python  \n",
      "8635              0.0    4000                Python  \n",
      "8673              0.5     350                Python  \n",
      "8695              0.5    1500                Python  \n",
      "\n",
      "[207 rows x 20 columns]\n"
     ]
    }
   ],
   "source": [
    "python_data = result_dropna.loc[result_dropna[\"Язык.программирования\"].isin([\"Python\"])]\n",
    "print(python_data)"
   ]
  },
  {
   "cell_type": "markdown",
   "id": "4a8930b1",
   "metadata": {},
   "source": [
    "Task10"
   ]
  },
  {
   "cell_type": "code",
   "execution_count": 39,
   "id": "47ccf307",
   "metadata": {},
   "outputs": [
    {
     "name": "stdout",
     "output_type": "stream",
     "text": [
      "кол-во столбцов :  20\n",
      "кол-во строк:  207\n"
     ]
    }
   ],
   "source": [
    "print(f\"кол-во столбцов :  {python_data.shape[1]}\")\n",
    "print(f\"кол-во строк:  {python_data.shape[0]}\")"
   ]
  },
  {
   "cell_type": "markdown",
   "id": "2685382f",
   "metadata": {},
   "source": [
    "Task11"
   ]
  },
  {
   "cell_type": "code",
   "execution_count": 6,
   "id": "46cfedf5",
   "metadata": {},
   "outputs": [
    {
     "name": "stdout",
     "output_type": "stream",
     "text": [
      "                                    N  Зарплата.в.месяц  \\\n",
      "Должность                                                 \n",
      "Junior Software Engineer  3559.063492        560.841270   \n",
      "Senior Software Engineer  4781.870968       3387.096774   \n",
      "Software Engineer         3668.840000       1799.070000   \n",
      "System Architect          6989.000000       4000.000000   \n",
      "Technical Lead            5370.181818       3165.909091   \n",
      "\n",
      "                          Изменение.зарплаты.за.12.месяцев    Возраст  \\\n",
      "Должность                                                               \n",
      "Junior Software Engineer                        181.031746  24.174603   \n",
      "Senior Software Engineer                        431.612903  29.064516   \n",
      "Software Engineer                               479.830000  26.630000   \n",
      "System Architect                                  0.000000  35.500000   \n",
      "Technical Lead                                  455.000000  30.090909   \n",
      "\n",
      "                          Еще.студент        exp  current_job_exp       salary  \n",
      "Должность                                                                       \n",
      "Junior Software Engineer     0.380952   0.876984         0.523810   560.841270  \n",
      "Senior Software Engineer     0.032258   6.677419         1.556452  3387.096774  \n",
      "Software Engineer            0.130000   3.180000         1.127500  1799.070000  \n",
      "System Architect             0.000000  10.000000         1.125000  4000.000000  \n",
      "Technical Lead               0.000000   7.090909         3.386364  3165.909091  \n"
     ]
    }
   ],
   "source": [
    "position = python_data.groupby(['Должность']).mean()\n",
    "print(position)"
   ]
  },
  {
   "cell_type": "markdown",
   "id": "3be7e015",
   "metadata": {},
   "source": [
    "Task12"
   ]
  },
  {
   "cell_type": "code",
   "execution_count": 25,
   "id": "fbe99d16",
   "metadata": {},
   "outputs": [
    {
     "name": "stdout",
     "output_type": "stream",
     "text": [
      "max    4000.00000\n",
      "min     560.84127\n",
      "Name: Зарплата.в.месяц, dtype: float64\n"
     ]
    }
   ],
   "source": [
    "salary_df = position[\"Зарплата.в.месяц\"].agg(['max', 'min'])\n",
    "print(salary_df)"
   ]
  },
  {
   "cell_type": "markdown",
   "id": "b7dc0124",
   "metadata": {},
   "source": [
    "Task13"
   ]
  },
  {
   "cell_type": "code",
   "execution_count": 38,
   "id": "9de3d4c9",
   "metadata": {},
   "outputs": [
    {
     "name": "stdout",
     "output_type": "stream",
     "text": [
      "                                    N  Зарплата.в.месяц  \\\n",
      "Должность                                                 \n",
      "Junior Software Engineer  3559.063492        560.841270   \n",
      "Senior Software Engineer  4781.870968       3387.096774   \n",
      "Software Engineer         3668.840000       1799.070000   \n",
      "System Architect          6989.000000       4000.000000   \n",
      "Technical Lead            5370.181818       3165.909091   \n",
      "\n",
      "                          Изменение.зарплаты.за.12.месяцев    Возраст  \\\n",
      "Должность                                                               \n",
      "Junior Software Engineer                        181.031746  24.174603   \n",
      "Senior Software Engineer                        431.612903  29.064516   \n",
      "Software Engineer                               479.830000  26.630000   \n",
      "System Architect                                  0.000000  35.500000   \n",
      "Technical Lead                                  455.000000  30.090909   \n",
      "\n",
      "                          Еще.студент        exp  current_job_exp  \\\n",
      "Должность                                                           \n",
      "Junior Software Engineer     0.380952   0.876984         0.523810   \n",
      "Senior Software Engineer     0.032258   6.677419         1.556452   \n",
      "Software Engineer            0.130000   3.180000         1.127500   \n",
      "System Architect             0.000000  10.000000         1.125000   \n",
      "Technical Lead               0.000000   7.090909         3.386364   \n",
      "\n",
      "                               salary          avg  \n",
      "Должность                                           \n",
      "Junior Software Engineer   560.841270  2582.583427  \n",
      "Senior Software Engineer  3387.096774  2582.583427  \n",
      "Software Engineer         1799.070000  2582.583427  \n",
      "System Architect          4000.000000  2582.583427  \n",
      "Technical Lead            3165.909091  2582.583427  \n"
     ]
    }
   ],
   "source": [
    "def fill_avg_salary(data):\n",
    "    avg_slr = data[\"Зарплата.в.месяц\"].agg(['mean'])\n",
    "    return avg_slr\n",
    "\n",
    "position['avg'] = position.apply(lambda data: fill_avg_salary(position), axis=1)\n",
    "\n",
    "print(position)"
   ]
  },
  {
   "cell_type": "markdown",
   "id": "ccb0a1f1",
   "metadata": {},
   "source": [
    "Task14"
   ]
  },
  {
   "cell_type": "code",
   "execution_count": 44,
   "id": "df9b593d",
   "metadata": {},
   "outputs": [
    {
     "name": "stdout",
     "output_type": "stream",
     "text": [
      "count       5.000000\n",
      "mean     2582.583427\n",
      "std         0.000000\n",
      "min      2582.583427\n",
      "25%      2582.583427\n",
      "50%      2582.583427\n",
      "75%      2582.583427\n",
      "max      2582.583427\n",
      "Name: avg, dtype: float64\n"
     ]
    }
   ],
   "source": [
    "print(position['avg'].describe())"
   ]
  },
  {
   "cell_type": "markdown",
   "id": "45653d71",
   "metadata": {},
   "source": [
    "Task15"
   ]
  },
  {
   "cell_type": "code",
   "execution_count": 45,
   "id": "068c4753",
   "metadata": {},
   "outputs": [],
   "source": [
    "position.to_csv(\"position.csv\", index=False)"
   ]
  }
 ],
 "metadata": {
  "kernelspec": {
   "display_name": "Python 3 (ipykernel)",
   "language": "python",
   "name": "python3"
  },
  "language_info": {
   "codemirror_mode": {
    "name": "ipython",
    "version": 3
   },
   "file_extension": ".py",
   "mimetype": "text/x-python",
   "name": "python",
   "nbconvert_exporter": "python",
   "pygments_lexer": "ipython3",
   "version": "3.10.1"
  }
 },
 "nbformat": 4,
 "nbformat_minor": 5
}
