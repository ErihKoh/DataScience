{
  "nbformat": 4,
  "nbformat_minor": 0,
  "metadata": {
    "colab": {
      "name": "Hw12.ipynb",
      "provenance": []
    },
    "kernelspec": {
      "name": "python3",
      "display_name": "Python 3"
    },
    "language_info": {
      "name": "python"
    },
    "accelerator": "GPU",
    "gpuClass": "standard"
  },
  "cells": [
    {
      "cell_type": "code",
      "execution_count": 56,
      "metadata": {
        "id": "UTSLSdu2aj_Q"
      },
      "outputs": [],
      "source": [
        "from tensorflow import keras\n",
        "from keras.models import Sequential\n",
        "from keras.applications.vgg16 import VGG16\n",
        "from keras.layers import Dense, Flatten, Conv2D, MaxPooling2D, Dropout\n",
        "from keras import optimizers\n",
        "from keras import losses\n",
        "from keras import metrics\n",
        "import tensorflow as tf\n",
        "import numpy as np\n",
        "import matplotlib.pyplot as plt\n",
        "%matplotlib inline"
      ]
    },
    {
      "cell_type": "code",
      "source": [
        "fashion_mnist = keras.datasets.fashion_mnist\n",
        "\n",
        "# Loading dataset\n",
        "(x_train, y_train), (x_test, y_test) = fashion_mnist.load_data()\n",
        "\n",
        "# transform to rgb as required by VGG\n",
        "x_train=tf.image.grayscale_to_rgb(tf.expand_dims(x_train, axis=3)) \n",
        "x_test=tf.image.grayscale_to_rgb(tf.expand_dims(x_test, axis=3))\n",
        "\n",
        "#resize to minimum size of (32x32)\n",
        "x_train=tf.image.resize_with_pad(x_train,32,32)\n",
        "x_test=tf.image.resize_with_pad(x_test,32,32)\n",
        "\n",
        "x_train, x_test = x_train / 255., x_test / 255."
      ],
      "metadata": {
        "id": "YL6d2SGGvM25"
      },
      "execution_count": 57,
      "outputs": []
    },
    {
      "cell_type": "code",
      "source": [
        "conv_base = VGG16(weights=\"imagenet\", include_top=False, input_shape=(32, 32, 3))\n",
        "conv_base.trainable = False"
      ],
      "metadata": {
        "id": "ElbPU0R4a0sr"
      },
      "execution_count": 58,
      "outputs": []
    },
    {
      "cell_type": "code",
      "source": [
        "model = Sequential([\n",
        "   conv_base,\n",
        "   Flatten(),\n",
        "   Dense(256, activation=\"sigmoid\"),\n",
        "   Dense(10, activation=\"softmax\"),\n",
        "])\n",
        "\n",
        "model.compile(\n",
        "    optimizer='adam',\n",
        "    loss='sparse_categorical_crossentropy',\n",
        "    metrics=['accuracy']\n",
        ")"
      ],
      "metadata": {
        "id": "KPYjsO6ebVSC"
      },
      "execution_count": 59,
      "outputs": []
    },
    {
      "cell_type": "code",
      "source": [
        "model.summary()"
      ],
      "metadata": {
        "colab": {
          "base_uri": "https://localhost:8080/"
        },
        "id": "8xm9AWDqxmAr",
        "outputId": "354781c1-7b37-4ef7-ff8a-122d5045c783"
      },
      "execution_count": 60,
      "outputs": [
        {
          "output_type": "stream",
          "name": "stdout",
          "text": [
            "Model: \"sequential_7\"\n",
            "_________________________________________________________________\n",
            " Layer (type)                Output Shape              Param #   \n",
            "=================================================================\n",
            " vgg16 (Functional)          (None, 1, 1, 512)         14714688  \n",
            "                                                                 \n",
            " flatten_7 (Flatten)         (None, 512)               0         \n",
            "                                                                 \n",
            " dense_14 (Dense)            (None, 256)               131328    \n",
            "                                                                 \n",
            " dense_15 (Dense)            (None, 10)                2570      \n",
            "                                                                 \n",
            "=================================================================\n",
            "Total params: 14,848,586\n",
            "Trainable params: 133,898\n",
            "Non-trainable params: 14,714,688\n",
            "_________________________________________________________________\n"
          ]
        }
      ]
    },
    {
      "cell_type": "code",
      "source": [
        "x_val = x_train[:10000]\n",
        "partial_x_train = x_train[10000:]\n",
        "\n",
        "y_val = y_train[:10000]\n",
        "partial_y_train = y_train[10000:]\n",
        "\n",
        "history = model.fit(\n",
        "    x_train,\n",
        "    y_train,\n",
        "    epochs=50,\n",
        "    batch_size=2048,\n",
        ")"
      ],
      "metadata": {
        "colab": {
          "base_uri": "https://localhost:8080/"
        },
        "id": "OwW-r_v9bz1e",
        "outputId": "8f902378-e041-49b9-d4b6-28492a7ac3c5"
      },
      "execution_count": 61,
      "outputs": [
        {
          "output_type": "stream",
          "name": "stdout",
          "text": [
            "Epoch 1/50\n",
            "30/30 [==============================] - 10s 305ms/step - loss: 1.7854 - accuracy: 0.5037\n",
            "Epoch 2/50\n",
            "30/30 [==============================] - 7s 221ms/step - loss: 1.0639 - accuracy: 0.7270\n",
            "Epoch 3/50\n",
            "30/30 [==============================] - 7s 223ms/step - loss: 0.8123 - accuracy: 0.7564\n",
            "Epoch 4/50\n",
            "30/30 [==============================] - 7s 228ms/step - loss: 0.7025 - accuracy: 0.7756\n",
            "Epoch 5/50\n",
            "30/30 [==============================] - 7s 228ms/step - loss: 0.6387 - accuracy: 0.7904\n",
            "Epoch 6/50\n",
            "30/30 [==============================] - 7s 226ms/step - loss: 0.5961 - accuracy: 0.8008\n",
            "Epoch 7/50\n",
            "30/30 [==============================] - 7s 223ms/step - loss: 0.5644 - accuracy: 0.8090\n",
            "Epoch 8/50\n",
            "30/30 [==============================] - 7s 222ms/step - loss: 0.5400 - accuracy: 0.8148\n",
            "Epoch 9/50\n",
            "30/30 [==============================] - 7s 220ms/step - loss: 0.5202 - accuracy: 0.8200\n",
            "Epoch 10/50\n",
            "30/30 [==============================] - 7s 219ms/step - loss: 0.5039 - accuracy: 0.8250\n",
            "Epoch 11/50\n",
            "30/30 [==============================] - 7s 220ms/step - loss: 0.4902 - accuracy: 0.8285\n",
            "Epoch 12/50\n",
            "30/30 [==============================] - 7s 218ms/step - loss: 0.4778 - accuracy: 0.8322\n",
            "Epoch 13/50\n",
            "30/30 [==============================] - 7s 218ms/step - loss: 0.4667 - accuracy: 0.8348\n",
            "Epoch 14/50\n",
            "30/30 [==============================] - 7s 218ms/step - loss: 0.4585 - accuracy: 0.8378\n",
            "Epoch 15/50\n",
            "30/30 [==============================] - 7s 219ms/step - loss: 0.4499 - accuracy: 0.8402\n",
            "Epoch 16/50\n",
            "30/30 [==============================] - 7s 220ms/step - loss: 0.4432 - accuracy: 0.8422\n",
            "Epoch 17/50\n",
            "30/30 [==============================] - 7s 218ms/step - loss: 0.4355 - accuracy: 0.8449\n",
            "Epoch 18/50\n",
            "30/30 [==============================] - 7s 220ms/step - loss: 0.4306 - accuracy: 0.8461\n",
            "Epoch 19/50\n",
            "30/30 [==============================] - 7s 219ms/step - loss: 0.4249 - accuracy: 0.8475\n",
            "Epoch 20/50\n",
            "30/30 [==============================] - 7s 220ms/step - loss: 0.4199 - accuracy: 0.8497\n",
            "Epoch 21/50\n",
            "30/30 [==============================] - 7s 219ms/step - loss: 0.4157 - accuracy: 0.8507\n",
            "Epoch 22/50\n",
            "30/30 [==============================] - 7s 220ms/step - loss: 0.4106 - accuracy: 0.8522\n",
            "Epoch 23/50\n",
            "30/30 [==============================] - 7s 221ms/step - loss: 0.4066 - accuracy: 0.8540\n",
            "Epoch 24/50\n",
            "30/30 [==============================] - 7s 221ms/step - loss: 0.4033 - accuracy: 0.8543\n",
            "Epoch 25/50\n",
            "30/30 [==============================] - 7s 220ms/step - loss: 0.4011 - accuracy: 0.8547\n",
            "Epoch 26/50\n",
            "30/30 [==============================] - 7s 220ms/step - loss: 0.3976 - accuracy: 0.8562\n",
            "Epoch 27/50\n",
            "30/30 [==============================] - 7s 222ms/step - loss: 0.3933 - accuracy: 0.8570\n",
            "Epoch 28/50\n",
            "30/30 [==============================] - 7s 220ms/step - loss: 0.3920 - accuracy: 0.8587\n",
            "Epoch 29/50\n",
            "30/30 [==============================] - 7s 219ms/step - loss: 0.3881 - accuracy: 0.8592\n",
            "Epoch 30/50\n",
            "30/30 [==============================] - 7s 219ms/step - loss: 0.3859 - accuracy: 0.8602\n",
            "Epoch 31/50\n",
            "30/30 [==============================] - 7s 220ms/step - loss: 0.3827 - accuracy: 0.8611\n",
            "Epoch 32/50\n",
            "30/30 [==============================] - 7s 219ms/step - loss: 0.3805 - accuracy: 0.8621\n",
            "Epoch 33/50\n",
            "30/30 [==============================] - 7s 220ms/step - loss: 0.3783 - accuracy: 0.8628\n",
            "Epoch 34/50\n",
            "30/30 [==============================] - 7s 219ms/step - loss: 0.3771 - accuracy: 0.8636\n",
            "Epoch 35/50\n",
            "30/30 [==============================] - 7s 219ms/step - loss: 0.3744 - accuracy: 0.8647\n",
            "Epoch 36/50\n",
            "30/30 [==============================] - 7s 219ms/step - loss: 0.3733 - accuracy: 0.8649\n",
            "Epoch 37/50\n",
            "30/30 [==============================] - 7s 220ms/step - loss: 0.3736 - accuracy: 0.8638\n",
            "Epoch 38/50\n",
            "30/30 [==============================] - 7s 220ms/step - loss: 0.3698 - accuracy: 0.8662\n",
            "Epoch 39/50\n",
            "30/30 [==============================] - 7s 219ms/step - loss: 0.3683 - accuracy: 0.8670\n",
            "Epoch 40/50\n",
            "30/30 [==============================] - 7s 220ms/step - loss: 0.3657 - accuracy: 0.8666\n",
            "Epoch 41/50\n",
            "30/30 [==============================] - 7s 219ms/step - loss: 0.3646 - accuracy: 0.8672\n",
            "Epoch 42/50\n",
            "30/30 [==============================] - 7s 219ms/step - loss: 0.3631 - accuracy: 0.8686\n",
            "Epoch 43/50\n",
            "30/30 [==============================] - 7s 220ms/step - loss: 0.3610 - accuracy: 0.8687\n",
            "Epoch 44/50\n",
            "30/30 [==============================] - 7s 220ms/step - loss: 0.3600 - accuracy: 0.8694\n",
            "Epoch 45/50\n",
            "30/30 [==============================] - 7s 220ms/step - loss: 0.3576 - accuracy: 0.8708\n",
            "Epoch 46/50\n",
            "30/30 [==============================] - 7s 220ms/step - loss: 0.3568 - accuracy: 0.8703\n",
            "Epoch 47/50\n",
            "30/30 [==============================] - 7s 219ms/step - loss: 0.3564 - accuracy: 0.8704\n",
            "Epoch 48/50\n",
            "30/30 [==============================] - 7s 221ms/step - loss: 0.3545 - accuracy: 0.8713\n",
            "Epoch 49/50\n",
            "30/30 [==============================] - 7s 221ms/step - loss: 0.3539 - accuracy: 0.8710\n",
            "Epoch 50/50\n",
            "30/30 [==============================] - 7s 221ms/step - loss: 0.3518 - accuracy: 0.8717\n"
          ]
        }
      ]
    },
    {
      "cell_type": "code",
      "source": [
        "history_dict = history.history\n",
        "\n",
        "epochs = range(1, len(history_dict['accuracy']) + 1)\n",
        "\n",
        "plt.plot(epochs, history_dict['loss'], 'bo', label='Training loss')\n",
        "# plt.plot(epochs, history_dict['val_loss'], 'b', label='Validation loss')\n",
        "plt.title('Training and validation loss')\n",
        "plt.xlabel('Epochs')\n",
        "plt.ylabel('Loss')\n",
        "plt.legend()\n",
        "plt.show()\n",
        "\n",
        "plt.clf()\n",
        "# val_acc_values = history_dict['val_accuracy']\n",
        "plt.plot(epochs, history_dict['accuracy'], 'bo', label='Training acc')\n",
        "# plt.plot(epochs, history_dict['val_accuracy'], 'b', label='Validation acc')\n",
        "plt.title('Training and validation accuracy')\n",
        "plt.xlabel('Epochs')\n",
        "plt.ylabel('Acc')\n",
        "plt.legend()\n",
        "plt.show()"
      ],
      "metadata": {
        "id": "rbCDoCYvb4uT",
        "colab": {
          "base_uri": "https://localhost:8080/",
          "height": 573
        },
        "outputId": "c56afb50-9263-4c5b-caf0-b306d57c8cbe"
      },
      "execution_count": 64,
      "outputs": [
        {
          "output_type": "display_data",
          "data": {
            "text/plain": [
              "<Figure size 432x288 with 1 Axes>"
            ],
            "image/png": "[encoded data removed]"
          },
          "metadata": {
            "needs_background": "light"
          }
        },
        {
          "output_type": "display_data",
          "data": {
            "text/plain": [
              "<Figure size 432x288 with 1 Axes>"
            ],
            "image/png": "[encoded data removed]"
          },
          "metadata": {
            "needs_background": "light"
          }
        }
      ]
    },
    {
      "cell_type": "code",
      "source": [
        "test_loss, test_acc = model.evaluate(x_test, y_test, verbose=2)"
      ],
      "metadata": {
        "id": "Gk6PSfE1b9ZV",
        "colab": {
          "base_uri": "https://localhost:8080/"
        },
        "outputId": "ff9f9cff-1296-4a72-e92e-a4ed3f2f740f"
      },
      "execution_count": 65,
      "outputs": [
        {
          "output_type": "stream",
          "name": "stdout",
          "text": [
            "313/313 - 3s - loss: 0.3938 - accuracy: 0.8583 - 3s/epoch - 9ms/step\n"
          ]
        }
      ]
    }
  ]
}