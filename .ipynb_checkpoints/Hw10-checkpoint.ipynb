{
 "cells": [
  {
   "cell_type": "code",
   "execution_count": 776,
   "id": "a04ec0f4",
   "metadata": {},
   "outputs": [],
   "source": [
    "from tensorflow import keras\n",
    "from keras.models import Sequential\n",
    "from keras.layers import Dense, Flatten\n",
    "from keras import optimizers\n",
    "from keras import losses\n",
    "from keras import metrics\n",
    "import tensorflow as tf\n",
    "import numpy as np\n",
    "import matplotlib.pyplot as plt\n",
    "%matplotlib inline"
   ]
  },
  {
   "cell_type": "code",
   "execution_count": 777,
   "id": "a48892d2",
   "metadata": {},
   "outputs": [],
   "source": [
    "fashion_mnist = keras.datasets.fashion_mnist\n",
    "\n",
    "# Загружаем датасет\n",
    "(x_train, y_train), (x_test, y_test) = fashion_mnist.load_data()\n",
    "\n",
    "# Преобразуем целочисленные пиксели к типа float32\n",
    "# x_train, x_test = np.array(x_train, np.float32), np.array(x_test, np.float32)\n",
    "\n",
    "# Преобразуем матрицы размером 28x28 пикселей в вектор из 784 элементов\n",
    "# x_train, x_test = x_train.reshape([-1, num_features]), x_test.reshape([-1, num_features])\n",
    "\n",
    "# Нормализуем значения пикселей\n",
    "x_train, x_test = x_train / 255., x_test / 255.\n"
   ]
  },
  {
   "cell_type": "code",
   "execution_count": 778,
   "id": "5354d22c",
   "metadata": {},
   "outputs": [],
   "source": [
    "model = Sequential([\n",
    "    Flatten(input_shape=(28, 28)),\n",
    "    Dense(800, activation='sigmoid'),\n",
    "    Dense(1024, activation='sigmoid'),\n",
    "    Dense(1024, activation='sigmoid'),\n",
    "    Dense(10, activation='softmax'),\n",
    "])\n"
   ]
  },
  {
   "cell_type": "code",
   "execution_count": 779,
   "id": "b917bec1",
   "metadata": {},
   "outputs": [],
   "source": [
    "model.compile(\n",
    "    optimizer='adam',\n",
    "    loss='sparse_categorical_crossentropy',\n",
    "    metrics=['accuracy']\n",
    ")"
   ]
  },
  {
   "cell_type": "code",
   "execution_count": 780,
   "id": "ab9f188c",
   "metadata": {},
   "outputs": [
    {
     "name": "stdout",
     "output_type": "stream",
     "text": [
      "Model: \"sequential_112\"\n",
      "_________________________________________________________________\n",
      " Layer (type)                Output Shape              Param #   \n",
      "=================================================================\n",
      " flatten_110 (Flatten)       (None, 784)               0         \n",
      "                                                                 \n",
      " dense_386 (Dense)           (None, 800)               628000    \n",
      "                                                                 \n",
      " dense_387 (Dense)           (None, 1024)              820224    \n",
      "                                                                 \n",
      " dense_388 (Dense)           (None, 1024)              1049600   \n",
      "                                                                 \n",
      " dense_389 (Dense)           (None, 10)                10250     \n",
      "                                                                 \n",
      "=================================================================\n",
      "Total params: 2,508,074\n",
      "Trainable params: 2,508,074\n",
      "Non-trainable params: 0\n",
      "_________________________________________________________________\n"
     ]
    }
   ],
   "source": [
    "model.summary()"
   ]
  },
  {
   "cell_type": "code",
   "execution_count": 781,
   "id": "25580034",
   "metadata": {},
   "outputs": [
    {
     "name": "stdout",
     "output_type": "stream",
     "text": [
      "Epoch 1/50\n",
      "25/25 [==============================] - 9s 323ms/step - loss: 2.1642 - accuracy: 0.2281 - val_loss: 1.3909 - val_accuracy: 0.4701\n",
      "Epoch 2/50\n",
      "25/25 [==============================] - 8s 301ms/step - loss: 1.0786 - accuracy: 0.5920 - val_loss: 0.8364 - val_accuracy: 0.7066\n",
      "Epoch 3/50\n",
      "25/25 [==============================] - 7s 273ms/step - loss: 0.7210 - accuracy: 0.7325 - val_loss: 0.6472 - val_accuracy: 0.7434\n",
      "Epoch 4/50\n",
      "25/25 [==============================] - 7s 270ms/step - loss: 0.5883 - accuracy: 0.7772 - val_loss: 0.5488 - val_accuracy: 0.7998\n",
      "Epoch 5/50\n",
      "25/25 [==============================] - 7s 272ms/step - loss: 0.5286 - accuracy: 0.8057 - val_loss: 0.5010 - val_accuracy: 0.8186\n",
      "Epoch 6/50\n",
      "25/25 [==============================] - 7s 272ms/step - loss: 0.4788 - accuracy: 0.8259 - val_loss: 0.4670 - val_accuracy: 0.8323\n",
      "Epoch 7/50\n",
      "25/25 [==============================] - 7s 270ms/step - loss: 0.4485 - accuracy: 0.8360 - val_loss: 0.4488 - val_accuracy: 0.8388\n",
      "Epoch 8/50\n",
      "25/25 [==============================] - 11s 439ms/step - loss: 0.4318 - accuracy: 0.8441 - val_loss: 0.4289 - val_accuracy: 0.8458\n",
      "Epoch 9/50\n",
      "25/25 [==============================] - 19s 724ms/step - loss: 0.4189 - accuracy: 0.8484 - val_loss: 0.4111 - val_accuracy: 0.8522\n",
      "Epoch 10/50\n",
      "25/25 [==============================] - 15s 603ms/step - loss: 0.4035 - accuracy: 0.8538 - val_loss: 0.4014 - val_accuracy: 0.8562\n",
      "Epoch 11/50\n",
      "25/25 [==============================] - 15s 600ms/step - loss: 0.3906 - accuracy: 0.8592 - val_loss: 0.4119 - val_accuracy: 0.8533\n",
      "Epoch 12/50\n",
      "25/25 [==============================] - 15s 626ms/step - loss: 0.3826 - accuracy: 0.8610 - val_loss: 0.3883 - val_accuracy: 0.8619\n",
      "Epoch 13/50\n",
      "25/25 [==============================] - 18s 696ms/step - loss: 0.3735 - accuracy: 0.8658 - val_loss: 0.3868 - val_accuracy: 0.8614\n",
      "Epoch 14/50\n",
      "25/25 [==============================] - 15s 601ms/step - loss: 0.3668 - accuracy: 0.8676 - val_loss: 0.3789 - val_accuracy: 0.8633\n",
      "Epoch 15/50\n",
      "25/25 [==============================] - 15s 600ms/step - loss: 0.3679 - accuracy: 0.8663 - val_loss: 0.3709 - val_accuracy: 0.8674\n",
      "Epoch 16/50\n",
      "25/25 [==============================] - 15s 630ms/step - loss: 0.3510 - accuracy: 0.8741 - val_loss: 0.3663 - val_accuracy: 0.8683\n",
      "Epoch 17/50\n",
      "25/25 [==============================] - 18s 692ms/step - loss: 0.3451 - accuracy: 0.8754 - val_loss: 0.3667 - val_accuracy: 0.8685\n",
      "Epoch 18/50\n",
      "25/25 [==============================] - 15s 606ms/step - loss: 0.3466 - accuracy: 0.8751 - val_loss: 0.3619 - val_accuracy: 0.8683\n",
      "Epoch 19/50\n",
      "25/25 [==============================] - 15s 601ms/step - loss: 0.3379 - accuracy: 0.8767 - val_loss: 0.3683 - val_accuracy: 0.8652\n",
      "Epoch 20/50\n",
      "25/25 [==============================] - 18s 728ms/step - loss: 0.3386 - accuracy: 0.8768 - val_loss: 0.3695 - val_accuracy: 0.8658\n",
      "Epoch 21/50\n",
      "25/25 [==============================] - 17s 620ms/step - loss: 0.3272 - accuracy: 0.8811 - val_loss: 0.3486 - val_accuracy: 0.8769\n",
      "Epoch 22/50\n",
      "25/25 [==============================] - 15s 608ms/step - loss: 0.3197 - accuracy: 0.8846 - val_loss: 0.3470 - val_accuracy: 0.8755\n",
      "Epoch 23/50\n",
      "25/25 [==============================] - 20s 792ms/step - loss: 0.3139 - accuracy: 0.8865 - val_loss: 0.3424 - val_accuracy: 0.8796\n",
      "Epoch 24/50\n",
      "25/25 [==============================] - 15s 622ms/step - loss: 0.3100 - accuracy: 0.8879 - val_loss: 0.3383 - val_accuracy: 0.8789\n",
      "Epoch 25/50\n",
      "25/25 [==============================] - 19s 742ms/step - loss: 0.3123 - accuracy: 0.8869 - val_loss: 0.3553 - val_accuracy: 0.8729\n",
      "Epoch 26/50\n",
      "25/25 [==============================] - 16s 672ms/step - loss: 0.3264 - accuracy: 0.8816 - val_loss: 0.3420 - val_accuracy: 0.8778\n",
      "Epoch 27/50\n",
      "25/25 [==============================] - 19s 706ms/step - loss: 0.2991 - accuracy: 0.8909 - val_loss: 0.3302 - val_accuracy: 0.8804\n",
      "Epoch 28/50\n",
      "25/25 [==============================] - 17s 685ms/step - loss: 0.2998 - accuracy: 0.8907 - val_loss: 0.3372 - val_accuracy: 0.8782\n",
      "Epoch 29/50\n",
      "25/25 [==============================] - 18s 679ms/step - loss: 0.2972 - accuracy: 0.8908 - val_loss: 0.3400 - val_accuracy: 0.8772\n",
      "Epoch 30/50\n",
      "25/25 [==============================] - 17s 719ms/step - loss: 0.2943 - accuracy: 0.8910 - val_loss: 0.3591 - val_accuracy: 0.8740\n",
      "Epoch 31/50\n",
      "25/25 [==============================] - 18s 669ms/step - loss: 0.2911 - accuracy: 0.8944 - val_loss: 0.3368 - val_accuracy: 0.8790\n",
      "Epoch 32/50\n",
      "25/25 [==============================] - 18s 727ms/step - loss: 0.2914 - accuracy: 0.8933 - val_loss: 0.3334 - val_accuracy: 0.8793\n",
      "Epoch 33/50\n",
      "25/25 [==============================] - 16s 615ms/step - loss: 0.2862 - accuracy: 0.8948 - val_loss: 0.3279 - val_accuracy: 0.8801\n",
      "Epoch 34/50\n",
      "25/25 [==============================] - 8s 340ms/step - loss: 0.2759 - accuracy: 0.8988 - val_loss: 0.3468 - val_accuracy: 0.8754\n",
      "Epoch 35/50\n",
      "25/25 [==============================] - 6s 253ms/step - loss: 0.2850 - accuracy: 0.8964 - val_loss: 0.3229 - val_accuracy: 0.8860\n",
      "Epoch 36/50\n",
      "25/25 [==============================] - 6s 258ms/step - loss: 0.2718 - accuracy: 0.9004 - val_loss: 0.3170 - val_accuracy: 0.8880\n",
      "Epoch 37/50\n",
      "25/25 [==============================] - 6s 259ms/step - loss: 0.2720 - accuracy: 0.9005 - val_loss: 0.3257 - val_accuracy: 0.8833\n",
      "Epoch 38/50\n",
      "25/25 [==============================] - 6s 255ms/step - loss: 0.2682 - accuracy: 0.9016 - val_loss: 0.3234 - val_accuracy: 0.8854\n",
      "Epoch 39/50\n",
      "25/25 [==============================] - 6s 254ms/step - loss: 0.2610 - accuracy: 0.9047 - val_loss: 0.3240 - val_accuracy: 0.8842\n",
      "Epoch 40/50\n",
      "25/25 [==============================] - 6s 257ms/step - loss: 0.2602 - accuracy: 0.9050 - val_loss: 0.3196 - val_accuracy: 0.8869\n",
      "Epoch 41/50\n",
      "25/25 [==============================] - 7s 268ms/step - loss: 0.2563 - accuracy: 0.9059 - val_loss: 0.3134 - val_accuracy: 0.8874\n",
      "Epoch 42/50\n",
      "25/25 [==============================] - 7s 278ms/step - loss: 0.2509 - accuracy: 0.9079 - val_loss: 0.3108 - val_accuracy: 0.8887\n",
      "Epoch 43/50\n",
      "25/25 [==============================] - 7s 283ms/step - loss: 0.2513 - accuracy: 0.9080 - val_loss: 0.3557 - val_accuracy: 0.8701\n",
      "Epoch 44/50\n",
      "25/25 [==============================] - 7s 288ms/step - loss: 0.2551 - accuracy: 0.9052 - val_loss: 0.3126 - val_accuracy: 0.8895\n",
      "Epoch 45/50\n",
      "25/25 [==============================] - 7s 290ms/step - loss: 0.2418 - accuracy: 0.9112 - val_loss: 0.3204 - val_accuracy: 0.8854\n",
      "Epoch 46/50\n",
      "25/25 [==============================] - 7s 292ms/step - loss: 0.2402 - accuracy: 0.9128 - val_loss: 0.3192 - val_accuracy: 0.8841\n",
      "Epoch 47/50\n",
      "25/25 [==============================] - 7s 292ms/step - loss: 0.2355 - accuracy: 0.9132 - val_loss: 0.3074 - val_accuracy: 0.8912\n",
      "Epoch 48/50\n",
      "25/25 [==============================] - 7s 295ms/step - loss: 0.2340 - accuracy: 0.9140 - val_loss: 0.3125 - val_accuracy: 0.8893\n",
      "Epoch 49/50\n",
      "25/25 [==============================] - 7s 265ms/step - loss: 0.2348 - accuracy: 0.9125 - val_loss: 0.3233 - val_accuracy: 0.8863\n",
      "Epoch 50/50\n",
      "25/25 [==============================] - 6s 228ms/step - loss: 0.2308 - accuracy: 0.9135 - val_loss: 0.3118 - val_accuracy: 0.8901\n"
     ]
    }
   ],
   "source": [
    "x_val = x_train[:10000]\n",
    "partial_x_train = x_train[10000:]\n",
    "\n",
    "y_val = y_train[:10000]\n",
    "partial_y_train = y_train[10000:]\n",
    "\n",
    "history = model.fit(\n",
    "    partial_x_train,\n",
    "    partial_y_train,\n",
    "    epochs=50,\n",
    "    batch_size=2048,\n",
    "    validation_data=(x_val, y_val)\n",
    ")"
   ]
  },
  {
   "cell_type": "code",
   "execution_count": 782,
   "id": "6029bc95",
   "metadata": {
    "scrolled": true
   },
   "outputs": [
    {
     "data": {
      "image/png": "[encoded data removed]",
      "text/plain": [
       "<Figure size 432x288 with 1 Axes>"
      ]
     },
     "metadata": {
      "needs_background": "light"
     },
     "output_type": "display_data"
    },
    {
     "data": {
      "image/png": "[encoded data removed]",
      "text/plain": [
       "<Figure size 432x288 with 1 Axes>"
      ]
     },
     "metadata": {
      "needs_background": "light"
     },
     "output_type": "display_data"
    }
   ],
   "source": [
    "history_dict = history.history\n",
    "\n",
    "epochs = range(1, len(history_dict['accuracy']) + 1)\n",
    "\n",
    "plt.plot(epochs, history_dict['loss'], 'bo', label='Training loss')\n",
    "plt.plot(epochs, history_dict['val_loss'], 'b', label='Validation loss')\n",
    "plt.title('Training and validation loss')\n",
    "plt.xlabel('Epochs')\n",
    "plt.ylabel('Loss')\n",
    "plt.legend()\n",
    "plt.show()\n",
    "\n",
    "plt.clf()\n",
    "val_acc_values = history_dict['val_accuracy']\n",
    "plt.plot(epochs, history_dict['accuracy'], 'bo', label='Training acc')\n",
    "plt.plot(epochs, history_dict['val_accuracy'], 'b', label='Validation acc')\n",
    "plt.title('Training and validation accuracy')\n",
    "plt.xlabel('Epochs')\n",
    "plt.ylabel('Loss')\n",
    "plt.legend()\n",
    "plt.show()"
   ]
  },
  {
   "cell_type": "code",
   "execution_count": 783,
   "id": "364d687d",
   "metadata": {},
   "outputs": [
    {
     "name": "stdout",
     "output_type": "stream",
     "text": [
      "313/313 - 1s - loss: 0.3411 - accuracy: 0.8815 - 1s/epoch - 5ms/step\n"
     ]
    }
   ],
   "source": [
    "test_loss, test_acc = model.evaluate(x_test, y_test)"
   ]
  }
 ],
 "metadata": {
  "kernelspec": {
   "display_name": "Python 3 (ipykernel)",
   "language": "python",
   "name": "python3"
  },
  "language_info": {
   "codemirror_mode": {
    "name": "ipython",
    "version": 3
   },
   "file_extension": ".py",
   "mimetype": "text/x-python",
   "name": "python",
   "nbconvert_exporter": "python",
   "pygments_lexer": "ipython3",
   "version": "3.10.1"
  }
 },
 "nbformat": 4,
 "nbformat_minor": 5
}
