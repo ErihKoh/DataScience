{
 "cells": [
  {
   "cell_type": "code",
   "execution_count": 1,
   "id": "a04ec0f4",
   "metadata": {},
   "outputs": [],
   "source": [
    "from tensorflow import keras\n",
    "from keras.models import Sequential\n",
    "from keras.layers import Dense, Flatten\n",
    "from keras import optimizers\n",
    "from keras import losses\n",
    "from keras import metrics\n",
    "import tensorflow as tf\n",
    "import numpy as np\n",
    "import matplotlib.pyplot as plt\n",
    "%matplotlib inline"
   ]
  },
  {
   "cell_type": "code",
   "execution_count": 2,
   "id": "a48892d2",
   "metadata": {},
   "outputs": [],
   "source": [
    "fashion_mnist = keras.datasets.fashion_mnist\n",
    "\n",
    "# Загружаем датасет\n",
    "(x_train, y_train), (x_test, y_test) = fashion_mnist.load_data()\n",
    "\n",
    "# Преобразуем целочисленные пиксели к типа float32\n",
    "# x_train, x_test = np.array(x_train, np.float32), np.array(x_test, np.float32)\n",
    "\n",
    "# Преобразуем матрицы размером 28x28 пикселей в вектор из 784 элементов\n",
    "# x_train, x_test = x_train.reshape([-1, num_features]), x_test.reshape([-1, num_features])\n",
    "\n",
    "# Нормализуем значения пикселей\n",
    "x_train, x_test = x_train / 255., x_test / 255.\n"
   ]
  },
  {
   "cell_type": "code",
   "execution_count": 3,
   "id": "5354d22c",
   "metadata": {},
   "outputs": [],
   "source": [
    "model = Sequential([\n",
    "    Flatten(input_shape=(28, 28)),\n",
    "    Dense(1024, activation='sigmoid'),\n",
    "    Dense(1024, activation='sigmoid'),\n",
    "    Dense(1024, activation='sigmoid'),\n",
    "    Dense(10, activation='softmax'),\n",
    "])\n"
   ]
  },
  {
   "cell_type": "code",
   "execution_count": 4,
   "id": "b917bec1",
   "metadata": {},
   "outputs": [],
   "source": [
    "model.compile(\n",
    "    optimizer='adam',\n",
    "    loss='sparse_categorical_crossentropy',\n",
    "    metrics=['accuracy']\n",
    ")"
   ]
  },
  {
   "cell_type": "code",
   "execution_count": 5,
   "id": "ab9f188c",
   "metadata": {},
   "outputs": [
    {
     "name": "stdout",
     "output_type": "stream",
     "text": [
      "Model: \"sequential\"\n",
      "_________________________________________________________________\n",
      " Layer (type)                Output Shape              Param #   \n",
      "=================================================================\n",
      " flatten (Flatten)           (None, 784)               0         \n",
      "                                                                 \n",
      " dense (Dense)               (None, 1024)              803840    \n",
      "                                                                 \n",
      " dense_1 (Dense)             (None, 1024)              1049600   \n",
      "                                                                 \n",
      " dense_2 (Dense)             (None, 1024)              1049600   \n",
      "                                                                 \n",
      " dense_3 (Dense)             (None, 10)                10250     \n",
      "                                                                 \n",
      "=================================================================\n",
      "Total params: 2,913,290\n",
      "Trainable params: 2,913,290\n",
      "Non-trainable params: 0\n",
      "_________________________________________________________________\n"
     ]
    }
   ],
   "source": [
    "model.summary()"
   ]
  },
  {
   "cell_type": "code",
   "execution_count": 6,
   "id": "25580034",
   "metadata": {},
   "outputs": [
    {
     "name": "stdout",
     "output_type": "stream",
     "text": [
      "Epoch 1/50\n",
      "25/25 [==============================] - 9s 320ms/step - loss: 2.1946 - accuracy: 0.2481 - val_loss: 1.4648 - val_accuracy: 0.5005\n",
      "Epoch 2/50\n",
      "25/25 [==============================] - 7s 288ms/step - loss: 1.0674 - accuracy: 0.5987 - val_loss: 0.8051 - val_accuracy: 0.7125\n",
      "Epoch 3/50\n",
      "25/25 [==============================] - 7s 279ms/step - loss: 0.6949 - accuracy: 0.7378 - val_loss: 0.6132 - val_accuracy: 0.7734\n",
      "Epoch 4/50\n",
      "25/25 [==============================] - 7s 284ms/step - loss: 0.5766 - accuracy: 0.7826 - val_loss: 0.5475 - val_accuracy: 0.8004\n",
      "Epoch 5/50\n",
      "25/25 [==============================] - 7s 285ms/step - loss: 0.5226 - accuracy: 0.8095 - val_loss: 0.5039 - val_accuracy: 0.8186\n",
      "Epoch 6/50\n",
      "25/25 [==============================] - 7s 282ms/step - loss: 0.4835 - accuracy: 0.8265 - val_loss: 0.4661 - val_accuracy: 0.8329\n",
      "Epoch 7/50\n",
      "25/25 [==============================] - 7s 283ms/step - loss: 0.4552 - accuracy: 0.8369 - val_loss: 0.4529 - val_accuracy: 0.8384\n",
      "Epoch 8/50\n",
      "25/25 [==============================] - 16s 639ms/step - loss: 0.4309 - accuracy: 0.8457 - val_loss: 0.4305 - val_accuracy: 0.8448\n",
      "Epoch 9/50\n",
      "25/25 [==============================] - 20s 822ms/step - loss: 0.4127 - accuracy: 0.8516 - val_loss: 0.4121 - val_accuracy: 0.8525\n",
      "Epoch 10/50\n",
      "25/25 [==============================] - 17s 661ms/step - loss: 0.3995 - accuracy: 0.8562 - val_loss: 0.4184 - val_accuracy: 0.8475\n",
      "Epoch 11/50\n",
      "25/25 [==============================] - 20s 765ms/step - loss: 0.3919 - accuracy: 0.8587 - val_loss: 0.3949 - val_accuracy: 0.8599\n",
      "Epoch 12/50\n",
      "25/25 [==============================] - 20s 838ms/step - loss: 0.3779 - accuracy: 0.8644 - val_loss: 0.3845 - val_accuracy: 0.8630\n",
      "Epoch 13/50\n",
      "25/25 [==============================] - 20s 828ms/step - loss: 0.3741 - accuracy: 0.8656 - val_loss: 0.3829 - val_accuracy: 0.8596\n",
      "Epoch 14/50\n",
      "25/25 [==============================] - 16s 645ms/step - loss: 0.3628 - accuracy: 0.8700 - val_loss: 0.3770 - val_accuracy: 0.8635\n",
      "Epoch 15/50\n",
      "25/25 [==============================] - 21s 788ms/step - loss: 0.3559 - accuracy: 0.8708 - val_loss: 0.3844 - val_accuracy: 0.8624\n",
      "Epoch 16/50\n",
      "25/25 [==============================] - 23s 851ms/step - loss: 0.3551 - accuracy: 0.8712 - val_loss: 0.3680 - val_accuracy: 0.8690\n",
      "Epoch 17/50\n",
      "25/25 [==============================] - 19s 695ms/step - loss: 0.3425 - accuracy: 0.8759 - val_loss: 0.3596 - val_accuracy: 0.8698\n",
      "Epoch 18/50\n",
      "25/25 [==============================] - 21s 851ms/step - loss: 0.3390 - accuracy: 0.8770 - val_loss: 0.3542 - val_accuracy: 0.8738\n",
      "Epoch 19/50\n",
      "25/25 [==============================] - 21s 842ms/step - loss: 0.3332 - accuracy: 0.8794 - val_loss: 0.3498 - val_accuracy: 0.8738\n",
      "Epoch 20/50\n",
      "25/25 [==============================] - 20s 832ms/step - loss: 0.3289 - accuracy: 0.8805 - val_loss: 0.3515 - val_accuracy: 0.8732\n",
      "Epoch 21/50\n",
      "25/25 [==============================] - 19s 787ms/step - loss: 0.3281 - accuracy: 0.8805 - val_loss: 0.3558 - val_accuracy: 0.8726\n",
      "Epoch 22/50\n",
      "25/25 [==============================] - 21s 813ms/step - loss: 0.3186 - accuracy: 0.8859 - val_loss: 0.3693 - val_accuracy: 0.8677\n",
      "Epoch 23/50\n",
      "25/25 [==============================] - 18s 678ms/step - loss: 0.3182 - accuracy: 0.8837 - val_loss: 0.3430 - val_accuracy: 0.8780\n",
      "Epoch 24/50\n",
      "25/25 [==============================] - 20s 743ms/step - loss: 0.3150 - accuracy: 0.8850 - val_loss: 0.3515 - val_accuracy: 0.8747\n",
      "Epoch 25/50\n",
      "25/25 [==============================] - 20s 817ms/step - loss: 0.3145 - accuracy: 0.8864 - val_loss: 0.3373 - val_accuracy: 0.8769\n",
      "Epoch 26/50\n",
      "25/25 [==============================] - 18s 749ms/step - loss: 0.3076 - accuracy: 0.8876 - val_loss: 0.3411 - val_accuracy: 0.8758\n",
      "Epoch 27/50\n",
      "25/25 [==============================] - 20s 727ms/step - loss: 0.2988 - accuracy: 0.8922 - val_loss: 0.3348 - val_accuracy: 0.8789\n",
      "Epoch 28/50\n",
      "25/25 [==============================] - 19s 708ms/step - loss: 0.2950 - accuracy: 0.8915 - val_loss: 0.3287 - val_accuracy: 0.8810\n",
      "Epoch 29/50\n",
      "25/25 [==============================] - 20s 839ms/step - loss: 0.2934 - accuracy: 0.8930 - val_loss: 0.3309 - val_accuracy: 0.8797\n",
      "Epoch 30/50\n",
      "25/25 [==============================] - 19s 785ms/step - loss: 0.2871 - accuracy: 0.8955 - val_loss: 0.3434 - val_accuracy: 0.8755\n",
      "Epoch 31/50\n",
      "25/25 [==============================] - 17s 648ms/step - loss: 0.2888 - accuracy: 0.8946 - val_loss: 0.3226 - val_accuracy: 0.8845\n",
      "Epoch 32/50\n",
      "25/25 [==============================] - 20s 826ms/step - loss: 0.2803 - accuracy: 0.8988 - val_loss: 0.3298 - val_accuracy: 0.8827\n",
      "Epoch 33/50\n",
      "25/25 [==============================] - 20s 826ms/step - loss: 0.2822 - accuracy: 0.8960 - val_loss: 0.3357 - val_accuracy: 0.8792\n",
      "Epoch 34/50\n",
      "25/25 [==============================] - 18s 725ms/step - loss: 0.2829 - accuracy: 0.8957 - val_loss: 0.3301 - val_accuracy: 0.8849\n",
      "Epoch 35/50\n",
      "25/25 [==============================] - 19s 703ms/step - loss: 0.2721 - accuracy: 0.9004 - val_loss: 0.3237 - val_accuracy: 0.8827\n",
      "Epoch 36/50\n",
      "25/25 [==============================] - 12s 476ms/step - loss: 0.2714 - accuracy: 0.9011 - val_loss: 0.3307 - val_accuracy: 0.8780\n",
      "Epoch 37/50\n",
      "25/25 [==============================] - 7s 290ms/step - loss: 0.2710 - accuracy: 0.9008 - val_loss: 0.3150 - val_accuracy: 0.8867\n",
      "Epoch 38/50\n",
      "25/25 [==============================] - 7s 290ms/step - loss: 0.2631 - accuracy: 0.9041 - val_loss: 0.3147 - val_accuracy: 0.8876\n",
      "Epoch 39/50\n",
      "25/25 [==============================] - 7s 286ms/step - loss: 0.2647 - accuracy: 0.9031 - val_loss: 0.3344 - val_accuracy: 0.8785\n",
      "Epoch 40/50\n",
      "25/25 [==============================] - 7s 285ms/step - loss: 0.2622 - accuracy: 0.9044 - val_loss: 0.3235 - val_accuracy: 0.8841\n",
      "Epoch 41/50\n",
      "25/25 [==============================] - 7s 284ms/step - loss: 0.2596 - accuracy: 0.9042 - val_loss: 0.3247 - val_accuracy: 0.8838\n",
      "Epoch 42/50\n",
      "25/25 [==============================] - 7s 284ms/step - loss: 0.2593 - accuracy: 0.9042 - val_loss: 0.3224 - val_accuracy: 0.8837\n",
      "Epoch 43/50\n",
      "25/25 [==============================] - 7s 284ms/step - loss: 0.2467 - accuracy: 0.9099 - val_loss: 0.3137 - val_accuracy: 0.8896\n",
      "Epoch 44/50\n",
      "25/25 [==============================] - 7s 284ms/step - loss: 0.2428 - accuracy: 0.9113 - val_loss: 0.3113 - val_accuracy: 0.8892\n",
      "Epoch 45/50\n",
      "25/25 [==============================] - 7s 284ms/step - loss: 0.2405 - accuracy: 0.9113 - val_loss: 0.3290 - val_accuracy: 0.8829\n",
      "Epoch 46/50\n",
      "25/25 [==============================] - 7s 286ms/step - loss: 0.2426 - accuracy: 0.9110 - val_loss: 0.3274 - val_accuracy: 0.8797\n",
      "Epoch 47/50\n",
      "25/25 [==============================] - 7s 290ms/step - loss: 0.2455 - accuracy: 0.9094 - val_loss: 0.3050 - val_accuracy: 0.8922\n",
      "Epoch 48/50\n",
      "25/25 [==============================] - 8s 301ms/step - loss: 0.2317 - accuracy: 0.9149 - val_loss: 0.3230 - val_accuracy: 0.8865\n",
      "Epoch 49/50\n",
      "25/25 [==============================] - 8s 315ms/step - loss: 0.2359 - accuracy: 0.9136 - val_loss: 0.3138 - val_accuracy: 0.8906\n",
      "Epoch 50/50\n",
      "25/25 [==============================] - 8s 319ms/step - loss: 0.2325 - accuracy: 0.9150 - val_loss: 0.3093 - val_accuracy: 0.8924\n"
     ]
    }
   ],
   "source": [
    "x_val = x_train[:10000]\n",
    "partial_x_train = x_train[10000:]\n",
    "\n",
    "y_val = y_train[:10000]\n",
    "partial_y_train = y_train[10000:]\n",
    "\n",
    "history = model.fit(\n",
    "    partial_x_train,\n",
    "    partial_y_train,\n",
    "    epochs=50,\n",
    "    batch_size=2048,\n",
    "    validation_data=(x_val, y_val)\n",
    ")"
   ]
  },
  {
   "cell_type": "code",
   "execution_count": 7,
   "id": "6029bc95",
   "metadata": {
    "scrolled": true
   },
   "outputs": [
    {
     "data": {
      "image/png": "[encoded data removed]",
      "text/plain": [
       "<Figure size 432x288 with 1 Axes>"
      ]
     },
     "metadata": {
      "needs_background": "light"
     },
     "output_type": "display_data"
    },
    {
     "data": {
      "image/png": "[encoded data removed]",
      "text/plain": [
       "<Figure size 432x288 with 1 Axes>"
      ]
     },
     "metadata": {
      "needs_background": "light"
     },
     "output_type": "display_data"
    }
   ],
   "source": [
    "history_dict = history.history\n",
    "\n",
    "epochs = range(1, len(history_dict['accuracy']) + 1)\n",
    "\n",
    "plt.plot(epochs, history_dict['loss'], 'bo', label='Training loss')\n",
    "plt.plot(epochs, history_dict['val_loss'], 'b', label='Validation loss')\n",
    "plt.title('Training and validation loss')\n",
    "plt.xlabel('Epochs')\n",
    "plt.ylabel('Loss')\n",
    "plt.legend()\n",
    "plt.show()\n",
    "\n",
    "plt.clf()\n",
    "val_acc_values = history_dict['val_accuracy']\n",
    "plt.plot(epochs, history_dict['accuracy'], 'bo', label='Training acc')\n",
    "plt.plot(epochs, history_dict['val_accuracy'], 'b', label='Validation acc')\n",
    "plt.title('Training and validation accuracy')\n",
    "plt.xlabel('Epochs')\n",
    "plt.ylabel('Loss')\n",
    "plt.legend()\n",
    "plt.show()"
   ]
  },
  {
   "cell_type": "code",
   "execution_count": 8,
   "id": "364d687d",
   "metadata": {},
   "outputs": [
    {
     "name": "stdout",
     "output_type": "stream",
     "text": [
      "313/313 [==============================] - 2s 6ms/step - loss: 0.3386 - accuracy: 0.8829\n"
     ]
    }
   ],
   "source": [
    "test_loss, test_acc = model.evaluate(x_test, y_test)"
   ]
  }
 ],
 "metadata": {
  "kernelspec": {
   "display_name": "Python 3 (ipykernel)",
   "language": "python",
   "name": "python3"
  },
  "language_info": {
   "codemirror_mode": {
    "name": "ipython",
    "version": 3
   },
   "file_extension": ".py",
   "mimetype": "text/x-python",
   "name": "python",
   "nbconvert_exporter": "python",
   "pygments_lexer": "ipython3",
   "version": "3.10.1"
  }
 },
 "nbformat": 4,
 "nbformat_minor": 5
}
