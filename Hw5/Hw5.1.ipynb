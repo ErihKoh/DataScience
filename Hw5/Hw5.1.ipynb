{
 "cells": [
  {
   "cell_type": "code",
   "execution_count": 1,
   "id": "4a2232d4",
   "metadata": {},
   "outputs": [],
   "source": [
    "from scipy.optimize import minimize"
   ]
  },
  {
   "cell_type": "code",
   "execution_count": 2,
   "id": "088653e9",
   "metadata": {},
   "outputs": [],
   "source": [
    "def f(arg):\n",
    "    x, y = arg\n",
    "    \n",
    "    return x * y\n"
   ]
  },
  {
   "cell_type": "code",
   "execution_count": 5,
   "id": "27f1d6bb",
   "metadata": {},
   "outputs": [
    {
     "data": {
      "text/plain": [
       "     fun: 1.0\n",
       "     jac: array([1., 1.])\n",
       " message: 'Optimization terminated successfully'\n",
       "    nfev: 24\n",
       "     nit: 9\n",
       "    njev: 8\n",
       "  status: 0\n",
       " success: True\n",
       "       x: array([1., 1.])"
      ]
     },
     "execution_count": 5,
     "metadata": {},
     "output_type": "execute_result"
    }
   ],
   "source": [
    "xbounds = (1, 1000)\n",
    "ybounds = (1, 1000)\n",
    "bounds = (xbounds, ybounds)\n",
    "result = minimize(f, [1, 1000], bounds=bounds, method='slsqp')\n",
    "\n",
    "result"
   ]
  }
 ],
 "metadata": {
  "kernelspec": {
   "display_name": "Python 3 (ipykernel)",
   "language": "python",
   "name": "python3"
  },
  "language_info": {
   "codemirror_mode": {
    "name": "ipython",
    "version": 3
   },
   "file_extension": ".py",
   "mimetype": "text/x-python",
   "name": "python",
   "nbconvert_exporter": "python",
   "pygments_lexer": "ipython3",
   "version": "3.10.1"
  }
 },
 "nbformat": 4,
 "nbformat_minor": 5
}
