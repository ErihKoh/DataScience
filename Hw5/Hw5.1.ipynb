{
 "cells": [
  {
   "cell_type": "code",
   "execution_count": 1,
   "id": "4a2232d4",
   "metadata": {},
   "outputs": [],
   "source": [
    "from scipy.optimize import minimize"
   ]
  },
  {
   "cell_type": "code",
   "execution_count": 7,
   "id": "088653e9",
   "metadata": {},
   "outputs": [],
   "source": [
    "def f(arg):\n",
    "    x, y = arg\n",
    "    y = 1000 / x\n",
    "    return 2 * x + y\n"
   ]
  },
  {
   "cell_type": "code",
   "execution_count": 9,
   "id": "27f1d6bb",
   "metadata": {},
   "outputs": [
    {
     "data": {
      "text/plain": [
       "     fun: 89.4427191011592\n",
       "     jac: array([-2.00271606e-05,  0.00000000e+00])\n",
       " message: 'Optimization terminated successfully'\n",
       "    nfev: 21\n",
       "     nit: 7\n",
       "    njev: 7\n",
       "  status: 0\n",
       " success: True\n",
       "       x: array([22.36056552, 10.        ])"
      ]
     },
     "execution_count": 9,
     "metadata": {},
     "output_type": "execute_result"
    }
   ],
   "source": [
    "xbounds = (1, 1000)\n",
    "ybounds = (1, 1000)\n",
    "bounds = (xbounds, ybounds)\n",
    "minimize(f, [10, 10], bounds=bounds, method='slsqp')"
   ]
  },
  {
   "cell_type": "code",
   "execution_count": null,
   "id": "d7b6f744",
   "metadata": {},
   "outputs": [],
   "source": [
    "def f2(x):        \n",
    "    return 2 * x + 1000/a\n",
    "cons = [{'type': 'ineq', 'fun': lambda a: a}]\n",
    "optimize.minimize(perim, [10,10], constraints=cons, method='cobyla')"
   ]
  }
 ],
 "metadata": {
  "kernelspec": {
   "display_name": "Python 3 (ipykernel)",
   "language": "python",
   "name": "python3"
  },
  "language_info": {
   "codemirror_mode": {
    "name": "ipython",
    "version": 3
   },
   "file_extension": ".py",
   "mimetype": "text/x-python",
   "name": "python",
   "nbconvert_exporter": "python",
   "pygments_lexer": "ipython3",
   "version": "3.10.1"
  }
 },
 "nbformat": 4,
 "nbformat_minor": 5
}
