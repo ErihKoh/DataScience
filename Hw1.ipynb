{
 "cells": [
  {
   "cell_type": "markdown",
   "id": "19668612",
   "metadata": {},
   "source": [
    "1) Вкладчик положил 50000 условных единиц на три разных счета в три разных банка. По первому счету выплаты составят 5% годовых, по второму – 7% годовых и по третьему 6% годовых. Известно, что через год вкладчик получил по процентам сумму в 2250 у.е. с первого и второго банка и сумму в 1400 у.е. с первого и третьего банка. Сколько условных единиц он положил на каждый счет изначально?"
   ]
  },
  {
   "cell_type": "markdown",
   "id": "e7e3ca48",
   "metadata": {},
   "source": [
    "<div>x + y + z = 50000</div>\n",
    "<div>0.05x + 0.07y = 2250</div>\n",
    "<div>0.05x + 0.06z = 1400</div>"
   ]
  },
  {
   "cell_type": "code",
   "execution_count": 1,
   "id": "06729ede",
   "metadata": {},
   "outputs": [
    {
     "name": "stdout",
     "output_type": "stream",
     "text": [
      "[[10000.]\n",
      " [25000.]\n",
      " [15000.]]\n"
     ]
    }
   ],
   "source": [
    "import numpy as np\n",
    "\n",
    "a = np.matrix(\"1,1,1;0.05,0.07,0;0.05,0,0.06\")\n",
    "b = np.matrix(\"50000;2250;1400\")\n",
    "x = np.linalg.solve(a, b)\n",
    "print(x)"
   ]
  },
  {
   "cell_type": "markdown",
   "id": "8b4da7a3",
   "metadata": {},
   "source": [
    "2) На складе хранятся мобильные телефоны iPhone 6, iPhone 11, iPhone 12 моделей. Всего 1328 экземпляра. Моделей iPhone 6 на 120 меньше, чем моделей iPhone 11, и на 100 больше, чем моделей iPhone 12. Сколько моделей каждого вида на складе?"
   ]
  },
  {
   "cell_type": "markdown",
   "id": "cd3d01a1",
   "metadata": {},
   "source": [
    "<div>x = iPhone 6</div>\n",
    "<div>y = iPhone 11</div>\n",
    "<div>z = iPhone 12</div>\n"
   ]
  },
  {
   "cell_type": "markdown",
   "id": "fac209e8",
   "metadata": {},
   "source": [
    "<div>x + y + z = 1328</div>\n",
    "<div>x - y = -120</div>\n",
    "<div>x - z = 100</div>"
   ]
  },
  {
   "cell_type": "code",
   "execution_count": 17,
   "id": "0b1e4a3c",
   "metadata": {},
   "outputs": [
    {
     "name": "stdout",
     "output_type": "stream",
     "text": [
      "[[436.]\n",
      " [556.]\n",
      " [336.]]\n"
     ]
    }
   ],
   "source": [
    "import numpy as np\n",
    "\n",
    "a = np.matrix(\"1,1,1;1,-1,0;1,0,-1\")\n",
    "b = np.matrix(\"1328;-120;100\")\n",
    "x = np.linalg.solve(a, b)\n",
    "print(x)"
   ]
  },
  {
   "cell_type": "markdown",
   "id": "875ce3ad",
   "metadata": {},
   "source": [
    "3) Составьте каноническое уравнение эллипсоида, проходящего через три точки A,B,C"
   ]
  },
  {
   "cell_type": "markdown",
   "id": "0c3b9ab3",
   "metadata": {},
   "source": [
    "<div>A(&#8730<span>3</span>, 0, &#8730<span>3</span>), B(&#8730<span>6, 1\\2, 0</span>), c(1, 1\\&#8730<span>3</span>, 1)</div>"
   ]
  },
  {
   "cell_type": "markdown",
   "id": "1c6baf6b",
   "metadata": {},
   "source": [
    "x^2 / a^2 + y^2 / b^2 + z^2 / c^2 = 1"
   ]
  },
  {
   "cell_type": "markdown",
   "id": "e084fc74",
   "metadata": {},
   "source": [
    "<div>u = 1/a^2</div>\n",
    "<div>v = 1/b^2</div>\n",
    "<div>w = 1/c^2</div>"
   ]
  },
  {
   "cell_type": "markdown",
   "id": "e0641d23",
   "metadata": {},
   "source": [
    "<div>3u + 3w = 1</div>\n",
    "<div>6u + v/4 = 1</div>\n",
    "<div>u + v/3 + w = 1</div>"
   ]
  },
  {
   "cell_type": "code",
   "execution_count": 3,
   "id": "021ff299",
   "metadata": {},
   "outputs": [
    {
     "name": "stdout",
     "output_type": "stream",
     "text": [
      "[[13.5       ]\n",
      " [ 0.45      ]\n",
      " [ 3.85714286]]\n"
     ]
    }
   ],
   "source": [
    "import numpy as np\n",
    "\n",
    "a = np.matrix(\"3,0,3;6,0.25,0;1,0.3,1\")\n",
    "b = np.matrix(\"1;1;1\")\n",
    "x = np.linalg.solve(a, b)\n",
    "print(1 / x)"
   ]
  },
  {
   "cell_type": "markdown",
   "id": "cfff93ad",
   "metadata": {},
   "source": [
    "a^2 = 13.5; b^2 = 0.45 ; c^2 = 3.8"
   ]
  },
  {
   "cell_type": "markdown",
   "id": "46bb7933",
   "metadata": {},
   "source": [
    "4) Составьте уравнение параболы проходящей через заданные три точки (1,12), (3,54), (-1,2). Необходимо найти коэффициенты уравнения a,b,c\n"
   ]
  },
  {
   "cell_type": "markdown",
   "id": "6439cd0a",
   "metadata": {},
   "source": [
    "y=a⋅x^2 + bx + c"
   ]
  },
  {
   "cell_type": "markdown",
   "id": "7de04ce7",
   "metadata": {},
   "source": [
    "<div>a + b + c = 12</div>\n",
    "<div>9a + 3b + c = 54</div>\n",
    "<div>a - b + c = 1</div>"
   ]
  },
  {
   "cell_type": "code",
   "execution_count": 6,
   "id": "ea16dc3f",
   "metadata": {},
   "outputs": [
    {
     "name": "stdout",
     "output_type": "stream",
     "text": [
      "[[4.]\n",
      " [5.]\n",
      " [3.]]\n"
     ]
    }
   ],
   "source": [
    "import numpy as np\n",
    "\n",
    "a = np.matrix(\"1,1,1;9,3,1;1,-1,1\")\n",
    "b = np.matrix(\"12;54;2\")\n",
    "x = np.linalg.solve(a, b)\n",
    "print(x)"
   ]
  },
  {
   "cell_type": "markdown",
   "id": "91b2ee48",
   "metadata": {},
   "source": [
    "a = 4; b = 5; c = 3"
   ]
  },
  {
   "cell_type": "markdown",
   "id": "fb270ee7",
   "metadata": {},
   "source": [
    "5) Составьте функцию get_polynom, которая по набору точек возвращает набор коэффициентов "
   ]
  },
  {
   "cell_type": "code",
   "execution_count": 1,
   "id": "10d2c46c",
   "metadata": {},
   "outputs": [
    {
     "name": "stdout",
     "output_type": "stream",
     "text": [
      "[[4.]\n",
      " [5.]\n",
      " [3.]]\n"
     ]
    }
   ],
   "source": [
    "import numpy as np\n",
    "\n",
    "\n",
    "def get_polynom(coords):\n",
    "    a = ''\n",
    "    b = ''\n",
    "\n",
    "    for coord in coords:\n",
    "        x = coord[0]\n",
    "        y = coord[1]\n",
    "\n",
    "        a += f'{x * x},{x},1;'\n",
    "        b += f'{y};'\n",
    "\n",
    "    a = np.matrix(a.rstrip(';'))\n",
    "    b = np.matrix(b.rstrip(';'))\n",
    "    return np.linalg.solve(a, b)\n",
    "\n",
    "print(get_polynom([(1, 12), (3, 54), (-1, 2)]))"
   ]
  }
 ],
 "metadata": {
  "kernelspec": {
   "display_name": "Python 3 (ipykernel)",
   "language": "python",
   "name": "python3"
  },
  "language_info": {
   "codemirror_mode": {
    "name": "ipython",
    "version": 3
   },
   "file_extension": ".py",
   "mimetype": "text/x-python",
   "name": "python",
   "nbconvert_exporter": "python",
   "pygments_lexer": "ipython3",
   "version": "3.10.1"
  }
 },
 "nbformat": 4,
 "nbformat_minor": 5
}
