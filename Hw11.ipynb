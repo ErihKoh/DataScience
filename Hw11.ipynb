{
  "cells": [
    {
      "cell_type": "code",
      "execution_count": null,
      "id": "f4ad1028",
      "metadata": {
        "id": "f4ad1028"
      },
      "outputs": [],
      "source": [
        "from tensorflow import keras\n",
        "from keras.models import Sequential\n",
        "from keras.layers import Dense, Flatten, Conv2D, MaxPooling2D, Dropout\n",
        "from keras import optimizers\n",
        "from keras import losses\n",
        "from keras import metrics\n",
        "import tensorflow as tf\n",
        "import numpy as np\n",
        "import matplotlib.pyplot as plt\n",
        "%matplotlib inline"
      ]
    },
    {
      "cell_type": "code",
      "execution_count": null,
      "id": "591bcad1",
      "metadata": {
        "id": "591bcad1"
      },
      "outputs": [],
      "source": [
        "fashion_mnist = keras.datasets.fashion_mnist\n",
        "\n",
        "# Загружаем датасет\n",
        "(x_train, y_train), (x_test, y_test) = fashion_mnist.load_data()\n",
        "\n",
        "# Нормализуем значения пикселей\n",
        "x_train, x_test = x_train / 255., x_test / 255."
      ]
    },
    {
      "cell_type": "code",
      "execution_count": null,
      "id": "0668e7a9",
      "metadata": {
        "id": "0668e7a9"
      },
      "outputs": [],
      "source": [
        "model = Sequential([\n",
        "    Conv2D(64, (3, 3), activation=\"relu\", input_shape=(28, 28, 1)),\n",
        "    MaxPooling2D((2, 2)),\n",
        "\n",
        "    Conv2D(64, (3, 3), activation=\"relu\"),\n",
        "    MaxPooling2D((2, 2)),\n",
        "\n",
        "    Conv2D(64, (3, 3), activation=\"relu\"),\n",
        "    \n",
        "    \n",
        "\n",
        "    Flatten(),\n",
        "    Dropout(0.5),\n",
        "    Dense(64, activation=\"relu\"),\n",
        "\n",
        "    Dense(10, activation=\"softmax\")\n",
        "])"
      ]
    },
    {
      "cell_type": "code",
      "execution_count": null,
      "id": "341dc87f",
      "metadata": {
        "id": "341dc87f"
      },
      "outputs": [],
      "source": [
        "model.compile(\n",
        "    optimizer='adam',\n",
        "    loss='sparse_categorical_crossentropy',\n",
        "    metrics=['accuracy']\n",
        ")"
      ]
    },
    {
      "cell_type": "code",
      "execution_count": null,
      "id": "ebc59788",
      "metadata": {
        "colab": {
          "base_uri": "https://localhost:8080/"
        },
        "id": "ebc59788",
        "outputId": "195843e3-54d8-47e2-870d-0544a8e62e70"
      },
      "outputs": [
        {
          "output_type": "stream",
          "name": "stdout",
          "text": [
            "Model: \"sequential_28\"\n",
            "_________________________________________________________________\n",
            " Layer (type)                Output Shape              Param #   \n",
            "=================================================================\n",
            " conv2d_85 (Conv2D)          (None, 26, 26, 64)        640       \n",
            "                                                                 \n",
            " max_pooling2d_57 (MaxPoolin  (None, 13, 13, 64)       0         \n",
            " g2D)                                                            \n",
            "                                                                 \n",
            " conv2d_86 (Conv2D)          (None, 11, 11, 64)        36928     \n",
            "                                                                 \n",
            " max_pooling2d_58 (MaxPoolin  (None, 5, 5, 64)         0         \n",
            " g2D)                                                            \n",
            "                                                                 \n",
            " conv2d_87 (Conv2D)          (None, 3, 3, 64)          36928     \n",
            "                                                                 \n",
            " flatten_28 (Flatten)        (None, 576)               0         \n",
            "                                                                 \n",
            " dropout_24 (Dropout)        (None, 576)               0         \n",
            "                                                                 \n",
            " dense_56 (Dense)            (None, 64)                36928     \n",
            "                                                                 \n",
            " dense_57 (Dense)            (None, 10)                650       \n",
            "                                                                 \n",
            "=================================================================\n",
            "Total params: 112,074\n",
            "Trainable params: 112,074\n",
            "Non-trainable params: 0\n",
            "_________________________________________________________________\n"
          ]
        }
      ],
      "source": [
        "model.summary()"
      ]
    },
    {
      "cell_type": "code",
      "execution_count": null,
      "id": "9fcc28fb",
      "metadata": {
        "colab": {
          "base_uri": "https://localhost:8080/"
        },
        "id": "9fcc28fb",
        "outputId": "fd4383bc-f663-4bf1-dbb0-aff4e5a3a6b0"
      },
      "outputs": [
        {
          "output_type": "stream",
          "name": "stdout",
          "text": [
            "Epoch 1/20\n",
            "196/196 [==============================] - 3s 12ms/step - loss: 0.8320 - accuracy: 0.6975 - val_loss: 0.4920 - val_accuracy: 0.8184\n",
            "Epoch 2/20\n",
            "196/196 [==============================] - 2s 11ms/step - loss: 0.4985 - accuracy: 0.8138 - val_loss: 0.4069 - val_accuracy: 0.8561\n",
            "Epoch 3/20\n",
            "196/196 [==============================] - 2s 11ms/step - loss: 0.4247 - accuracy: 0.8445 - val_loss: 0.3520 - val_accuracy: 0.8727\n",
            "Epoch 4/20\n",
            "196/196 [==============================] - 2s 10ms/step - loss: 0.3790 - accuracy: 0.8631 - val_loss: 0.3236 - val_accuracy: 0.8850\n",
            "Epoch 5/20\n",
            "196/196 [==============================] - 2s 11ms/step - loss: 0.3521 - accuracy: 0.8724 - val_loss: 0.3045 - val_accuracy: 0.8886\n",
            "Epoch 6/20\n",
            "196/196 [==============================] - 2s 11ms/step - loss: 0.3353 - accuracy: 0.8768 - val_loss: 0.2925 - val_accuracy: 0.8952\n",
            "Epoch 7/20\n",
            "196/196 [==============================] - 2s 11ms/step - loss: 0.3165 - accuracy: 0.8844 - val_loss: 0.2858 - val_accuracy: 0.8963\n",
            "Epoch 8/20\n",
            "196/196 [==============================] - 2s 10ms/step - loss: 0.3027 - accuracy: 0.8892 - val_loss: 0.2707 - val_accuracy: 0.9005\n",
            "Epoch 9/20\n",
            "196/196 [==============================] - 2s 11ms/step - loss: 0.2966 - accuracy: 0.8911 - val_loss: 0.2752 - val_accuracy: 0.8970\n",
            "Epoch 10/20\n",
            "196/196 [==============================] - 2s 11ms/step - loss: 0.2851 - accuracy: 0.8950 - val_loss: 0.2633 - val_accuracy: 0.9032\n",
            "Epoch 11/20\n",
            "196/196 [==============================] - 2s 11ms/step - loss: 0.2725 - accuracy: 0.8999 - val_loss: 0.2614 - val_accuracy: 0.9009\n",
            "Epoch 12/20\n",
            "196/196 [==============================] - 2s 10ms/step - loss: 0.2670 - accuracy: 0.9023 - val_loss: 0.2471 - val_accuracy: 0.9078\n",
            "Epoch 13/20\n",
            "196/196 [==============================] - 2s 11ms/step - loss: 0.2588 - accuracy: 0.9045 - val_loss: 0.2459 - val_accuracy: 0.9076\n",
            "Epoch 14/20\n",
            "196/196 [==============================] - 2s 10ms/step - loss: 0.2514 - accuracy: 0.9071 - val_loss: 0.2423 - val_accuracy: 0.9094\n",
            "Epoch 15/20\n",
            "196/196 [==============================] - 2s 11ms/step - loss: 0.2433 - accuracy: 0.9106 - val_loss: 0.2416 - val_accuracy: 0.9090\n",
            "Epoch 16/20\n",
            "196/196 [==============================] - 2s 11ms/step - loss: 0.2410 - accuracy: 0.9111 - val_loss: 0.2292 - val_accuracy: 0.9144\n",
            "Epoch 17/20\n",
            "196/196 [==============================] - 2s 11ms/step - loss: 0.2327 - accuracy: 0.9137 - val_loss: 0.2329 - val_accuracy: 0.9138\n",
            "Epoch 18/20\n",
            "196/196 [==============================] - 2s 10ms/step - loss: 0.2275 - accuracy: 0.9157 - val_loss: 0.2271 - val_accuracy: 0.9147\n",
            "Epoch 19/20\n",
            "196/196 [==============================] - 2s 11ms/step - loss: 0.2282 - accuracy: 0.9142 - val_loss: 0.2289 - val_accuracy: 0.9134\n",
            "Epoch 20/20\n",
            "196/196 [==============================] - 2s 10ms/step - loss: 0.2184 - accuracy: 0.9184 - val_loss: 0.2252 - val_accuracy: 0.9172\n"
          ]
        }
      ],
      "source": [
        "x_val = x_train[:10000]\n",
        "partial_x_train = x_train[10000:]\n",
        "\n",
        "y_val = y_train[:10000]\n",
        "partial_y_train = y_train[10000:]\n",
        "\n",
        "history = model.fit(\n",
        "    partial_x_train,\n",
        "    partial_y_train,\n",
        "    epochs=20,\n",
        "    batch_size=256,\n",
        "    validation_data=(x_val, y_val)\n",
        ")"
      ]
    },
    {
      "cell_type": "code",
      "source": [
        "history_dict = history.history\n",
        "\n",
        "epochs = range(1, len(history_dict['accuracy']) + 1)\n",
        "\n",
        "plt.plot(epochs, history_dict['loss'], 'bo', label='Training loss')\n",
        "plt.plot(epochs, history_dict['val_loss'], 'b', label='Validation loss')\n",
        "plt.title('Training and validation loss')\n",
        "plt.xlabel('Epochs')\n",
        "plt.ylabel('Loss')\n",
        "plt.legend()\n",
        "plt.show()\n",
        "\n",
        "plt.clf()\n",
        "val_acc_values = history_dict['val_accuracy']\n",
        "plt.plot(epochs, history_dict['accuracy'], 'bo', label='Training acc')\n",
        "plt.plot(epochs, history_dict['val_accuracy'], 'b', label='Validation acc')\n",
        "plt.title('Training and validation accuracy')\n",
        "plt.xlabel('Epochs')\n",
        "plt.ylabel('Acc')\n",
        "plt.legend()\n",
        "plt.show()"
      ],
      "metadata": {
        "colab": {
          "base_uri": "https://localhost:8080/",
          "height": 573
        },
        "id": "6cWo0EtdFJO-",
        "outputId": "34c48378-6a69-4f15-a0c9-97742f45ace5"
      },
      "id": "6cWo0EtdFJO-",
      "execution_count": null,
      "outputs": [
        {
          "output_type": "display_data",
          "data": {
            "text/plain": [
              "<Figure size 432x288 with 1 Axes>"
            ],
            "image/png": "[encoded data removed]"
          },
          "metadata": {
            "needs_background": "light"
          }
        },
        {
          "output_type": "display_data",
          "data": {
            "text/plain": [
              "<Figure size 432x288 with 1 Axes>"
            ],
            "image/png": "[encoded data removed]"
          },
          "metadata": {
            "needs_background": "light"
          }
        }
      ]
    },
    {
      "cell_type": "code",
      "source": [
        "test_loss, test_acc = model.evaluate(x_test, y_test, verbose=2)"
      ],
      "metadata": {
        "colab": {
          "base_uri": "https://localhost:8080/"
        },
        "id": "RBjT9hyLFRYX",
        "outputId": "6c2082c3-e9b7-46c5-fce6-58fccfeab7bd"
      },
      "id": "RBjT9hyLFRYX",
      "execution_count": null,
      "outputs": [
        {
          "output_type": "stream",
          "name": "stdout",
          "text": [
            "313/313 - 1s - loss: 0.2436 - accuracy: 0.9101 - 658ms/epoch - 2ms/step\n"
          ]
        }
      ]
    },
    {
      "cell_type": "code",
      "source": [
        "result = model.predict(x_test)\n"
      ],
      "metadata": {
        "id": "N8nWwsm2FSGo"
      },
      "id": "N8nWwsm2FSGo",
      "execution_count": null,
      "outputs": []
    },
    {
      "cell_type": "code",
      "source": [
        "np.argmax(result[0])"
      ],
      "metadata": {
        "colab": {
          "base_uri": "https://localhost:8080/"
        },
        "id": "4KUgg6ygFXe0",
        "outputId": "357cefec-ee66-492e-cc88-aaf6ee98f48b"
      },
      "id": "4KUgg6ygFXe0",
      "execution_count": null,
      "outputs": [
        {
          "output_type": "execute_result",
          "data": {
            "text/plain": [
              "9"
            ]
          },
          "metadata": {},
          "execution_count": 307
        }
      ]
    },
    {
      "cell_type": "code",
      "source": [
        "plt.imshow(x_test[0])"
      ],
      "metadata": {
        "colab": {
          "base_uri": "https://localhost:8080/",
          "height": 282
        },
        "id": "KAkuPg1oFa9T",
        "outputId": "108f9cf1-07c3-43b7-d370-4ee1ed4a4e78"
      },
      "id": "KAkuPg1oFa9T",
      "execution_count": null,
      "outputs": [
        {
          "output_type": "execute_result",
          "data": {
            "text/plain": [
              "<matplotlib.image.AxesImage at 0x7f9eacd4fa90>"
            ]
          },
          "metadata": {},
          "execution_count": 308
        },
        {
          "output_type": "display_data",
          "data": {
            "text/plain": [
              "<Figure size 432x288 with 1 Axes>"
            ],
            "image/png": "[encoded data removed]"
          },
          "metadata": {
            "needs_background": "light"
          }
        }
      ]
    }
  ],
  "metadata": {
    "kernelspec": {
      "display_name": "Python 3 (ipykernel)",
      "language": "python",
      "name": "python3"
    },
    "language_info": {
      "codemirror_mode": {
        "name": "ipython",
        "version": 3
      },
      "file_extension": ".py",
      "mimetype": "text/x-python",
      "name": "python",
      "nbconvert_exporter": "python",
      "pygments_lexer": "ipython3",
      "version": "3.10.1"
    },
    "colab": {
      "name": "Hw11.ipynb",
      "provenance": [],
      "collapsed_sections": []
    },
    "accelerator": "GPU",
    "gpuClass": "standard"
  },
  "nbformat": 4,
  "nbformat_minor": 5
}